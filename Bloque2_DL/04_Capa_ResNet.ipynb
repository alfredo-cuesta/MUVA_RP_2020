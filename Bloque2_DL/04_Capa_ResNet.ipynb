{
 "cells": [
  {
   "cell_type": "markdown",
   "metadata": {
    "colab_type": "text",
    "id": "1KI5HO6c0MQy"
   },
   "source": [
    "# Capa Inception\n",
    "\n",
    "En este cuaderno vamos ver como se implementaría una capa Inception\n",
    "\n",
    "---\n",
    "\n",
    "    [ES] Código de Alfredo Cuesta Infante para 'Reconocimiento de Patrones'\n",
    "       @ Master Universitario en Visión Artificial, 2020, URJC (España)\n",
    "    [EN] Code by Alfredo Cuesta-Infante for 'Pattern Recognition'\n",
    "       @ Master of Computer Vision, 2020, URJC (Spain)\n",
    "\n",
    "    alfredo.cuesta@urjc.es    "
   ]
  },
  {
   "cell_type": "code",
   "execution_count": 1,
   "metadata": {},
   "outputs": [],
   "source": [
    "def resnet_layer(x, num_filters):\n",
    "    #\n",
    "    cnn1 = Conv2D(num_filters, (3,3), padding=\"same\", activation = \"relu\")(x)\n",
    "    cnn2 = Conv2D(num_filters, (3,3), padding=\"same\", activation = \"relu\")(cnn1)\n",
    "    y   = Add()([x,cnn2])    \n",
    "    #\n",
    "    return y"
   ]
  },
  {
   "cell_type": "code",
   "execution_count": 2,
   "metadata": {},
   "outputs": [
    {
     "name": "stdout",
     "output_type": "stream",
     "text": [
      "Model: \"functional_1\"\n",
      "__________________________________________________________________________________________________\n",
      "Layer (type)                    Output Shape         Param #     Connected to                     \n",
      "==================================================================================================\n",
      "input_layer (InputLayer)        [(None, 28, 28, 1)]  0                                            \n",
      "__________________________________________________________________________________________________\n",
      "conv2d (Conv2D)                 (None, 28, 28, 32)   320         input_layer[0][0]                \n",
      "__________________________________________________________________________________________________\n",
      "conv2d_1 (Conv2D)               (None, 28, 28, 32)   9248        conv2d[0][0]                     \n",
      "__________________________________________________________________________________________________\n",
      "add (Add)                       (None, 28, 28, 32)   0           input_layer[0][0]                \n",
      "                                                                 conv2d_1[0][0]                   \n",
      "__________________________________________________________________________________________________\n",
      "conv2d_2 (Conv2D)               (None, 28, 28, 32)   9248        add[0][0]                        \n",
      "__________________________________________________________________________________________________\n",
      "conv2d_3 (Conv2D)               (None, 28, 28, 32)   9248        conv2d_2[0][0]                   \n",
      "__________________________________________________________________________________________________\n",
      "add_1 (Add)                     (None, 28, 28, 32)   0           add[0][0]                        \n",
      "                                                                 conv2d_3[0][0]                   \n",
      "==================================================================================================\n",
      "Total params: 28,064\n",
      "Trainable params: 28,064\n",
      "Non-trainable params: 0\n",
      "__________________________________________________________________________________________________\n"
     ]
    }
   ],
   "source": [
    "import numpy as np\n",
    "from tensorflow.keras import Model\n",
    "from tensorflow.keras.models import Sequential\n",
    "from tensorflow.keras.layers import Input, Conv2D, Add\n",
    "\n",
    "width =28\n",
    "height=28\n",
    "depth =1 \n",
    "X_shape = [width,height,depth]\n",
    "\n",
    "model_input = Input(shape=X_shape, name=\"input_layer\")\n",
    "\n",
    "resnet1 = resnet_layer(model_input, 32) #<-- num of conv.filters\n",
    "\n",
    "model_output = resnet_layer(resnet1, 32) #<-- num of conv.filters\n",
    "\n",
    "model = Model(model_input, model_output)\n",
    "\n",
    "model.summary()"
   ]
  },
  {
   "cell_type": "markdown",
   "metadata": {},
   "source": [
    "## Ejercicio.\n",
    "\n",
    "+ Modificar la función `resnet_layer` para construir alguna de las versiones de ResNet que se pueden ver en la figura.<br>\n",
    "(**BN** es una capa de _Batch Normalization_)\n",
    "![resnet](resnet_versions.png)"
   ]
  }
 ],
 "metadata": {
  "accelerator": "TPU",
  "colab": {
   "collapsed_sections": [
    "a36yDHQK0Tny",
    "kjWNP6d00bdG",
    "4w2Y9htI2Ix2"
   ],
   "name": "02_keras_CNN.ipynb",
   "provenance": []
  },
  "kernelspec": {
   "display_name": "Python 3",
   "language": "python",
   "name": "python3"
  },
  "language_info": {
   "codemirror_mode": {
    "name": "ipython",
    "version": 3
   },
   "file_extension": ".py",
   "mimetype": "text/x-python",
   "name": "python",
   "nbconvert_exporter": "python",
   "pygments_lexer": "ipython3",
   "version": "3.7.9"
  }
 },
 "nbformat": 4,
 "nbformat_minor": 1
}
