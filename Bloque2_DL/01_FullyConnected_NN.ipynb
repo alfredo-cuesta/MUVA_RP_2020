{
 "cells": [
  {
   "cell_type": "markdown",
   "metadata": {
    "colab_type": "text",
    "id": "1KI5HO6c0MQy"
   },
   "source": [
    "# Fully Connected Neural Networks (FCNN)\n",
    "### a.k.a. Multilayer Perceptron (MLP)"
   ]
  },
  {
   "cell_type": "code",
   "execution_count": 1,
   "metadata": {
    "colab": {},
    "colab_type": "code",
    "id": "0Kd8kmCJ8FzY"
   },
   "outputs": [],
   "source": [
    "import numpy as np\n",
    "import matplotlib.pyplot as plt"
   ]
  },
  {
   "cell_type": "markdown",
   "metadata": {
    "colab_type": "text",
    "id": "a36yDHQK0Tny"
   },
   "source": [
    "## Download the MNIST data set"
   ]
  },
  {
   "cell_type": "code",
   "execution_count": 2,
   "metadata": {
    "cellView": "code",
    "colab": {
     "base_uri": "https://localhost:8080/",
     "height": 0
    },
    "colab_type": "code",
    "executionInfo": {
     "elapsed": 3090,
     "status": "ok",
     "timestamp": 1564080372050,
     "user": {
      "displayName": "alfredo cuesta infante Universidad Rey Juan Carlos",
      "photoUrl": "https://lh4.googleusercontent.com/-z9Tr7G7VUMk/AAAAAAAAAAI/AAAAAAAAAAc/gH3qm0UbcIo/s64/photo.jpg",
      "userId": "17488335604138000921"
     },
     "user_tz": -120
    },
    "id": "1-qDDIYSvF0W",
    "outputId": "39b5aa89-d756-403c-e01f-c78416137732"
   },
   "outputs": [],
   "source": [
    "from tensorflow.keras.datasets import mnist\n",
    "\n",
    "(x_train, y_train), (x_test, y_test) = mnist.load_data()\n",
    "#- Get info of train and test data sets\n",
    "N_train,dim0,dim1 = x_train.shape\n",
    "N_test,dim0,dim1  = x_test.shape\n",
    "num_classes = 10"
   ]
  },
  {
   "cell_type": "markdown",
   "metadata": {
    "colab_type": "text",
    "id": "kjWNP6d00bdG"
   },
   "source": [
    "## Create the FCNN model. \n",
    "  ( There are two equivalent options )\n"
   ]
  },
  {
   "cell_type": "code",
   "execution_count": 4,
   "metadata": {
    "colab": {
     "base_uri": "https://localhost:8080/",
     "height": 168
    },
    "colab_type": "code",
    "executionInfo": {
     "elapsed": 3106,
     "status": "ok",
     "timestamp": 1564080372080,
     "user": {
      "displayName": "alfredo cuesta infante Universidad Rey Juan Carlos",
      "photoUrl": "https://lh4.googleusercontent.com/-z9Tr7G7VUMk/AAAAAAAAAAI/AAAAAAAAAAc/gH3qm0UbcIo/s64/photo.jpg",
      "userId": "17488335604138000921"
     },
     "user_tz": -120
    },
    "id": "RtdiOOonwUcU",
    "outputId": "78cc47cd-f906-48aa-9ca3-2565add89761"
   },
   "outputs": [],
   "source": [
    "from tensorflow.keras.models import Sequential\n",
    "from tensorflow.keras.layers import Dense, Activation\n",
    "\n",
    "choice_code = 'all_in_one' # 'all_in_one' , 'with_add'\n",
    "\n",
    "if choice_code == 'all_in_one':\n",
    "  model = Sequential([\n",
    "      Dense(32, input_shape=(784,)),\n",
    "      Activation('relu'),\n",
    "      Dense(10),\n",
    "      Activation('softmax'),\n",
    "  ])\n",
    "elif choice_code == 'with_add':\n",
    "  model = Sequential()\n",
    "  model.add(Dense(32, input_dim=784))\n",
    "  model.add(Activation('relu'))\n",
    "  model.add(Dense(10))\n",
    "  model.add(Activation('softmax'))\n",
    "  \n"
   ]
  },
  {
   "cell_type": "markdown",
   "metadata": {
    "colab_type": "text",
    "id": "C1r2xGCF1tkW"
   },
   "source": [
    "Compile the model, according to the problem it tackles. \n",
    "  (In this example, we face the multi-class problem of labelling the image of a digit from 0 to 9 )"
   ]
  },
  {
   "cell_type": "code",
   "execution_count": 5,
   "metadata": {
    "colab": {
     "base_uri": "https://localhost:8080/",
     "height": 112
    },
    "colab_type": "code",
    "executionInfo": {
     "elapsed": 3111,
     "status": "ok",
     "timestamp": 1564080372096,
     "user": {
      "displayName": "alfredo cuesta infante Universidad Rey Juan Carlos",
      "photoUrl": "https://lh4.googleusercontent.com/-z9Tr7G7VUMk/AAAAAAAAAAI/AAAAAAAAAAc/gH3qm0UbcIo/s64/photo.jpg",
      "userId": "17488335604138000921"
     },
     "user_tz": -120
    },
    "id": "T5SWcJ36v3vA",
    "outputId": "63b4c91c-716d-43da-9975-9a1edc810f6c"
   },
   "outputs": [],
   "source": [
    "choice_problem = 'Nclasses' # 'Nclasses', '2classes', 'regression'\n",
    "\n",
    "if choice_problem == 'Nclasses':\n",
    "  # For a multi-class classification problem\n",
    "  model.compile(optimizer='rmsprop',\n",
    "                loss='categorical_crossentropy',\n",
    "                metrics=['accuracy'])\n",
    "elif choice_problem == '2classes':\n",
    "  # For a binary classification problem\n",
    "  model.compile(optimizer='rmsprop',\n",
    "                loss='binary_crossentropy',\n",
    "                metrics=['accuracy'])\n",
    "elif choice_problem == 'regression':\n",
    "  # For a mean squared error regression problem\n",
    "  model.compile(optimizer='rmsprop',\n",
    "                loss='mse')\n",
    "else:\n",
    "  print('--- choose a valid option ---')"
   ]
  },
  {
   "cell_type": "markdown",
   "metadata": {
    "colab_type": "text",
    "id": "3CfLnCDn7trc"
   },
   "source": [
    "## Learn"
   ]
  },
  {
   "cell_type": "markdown",
   "metadata": {
    "colab_type": "text",
    "id": "MWpsv3RW4c1u"
   },
   "source": [
    "For learning a FCNN we first have to transform the data set into a table of Ns samples and 28x28 features (pixels)"
   ]
  },
  {
   "cell_type": "code",
   "execution_count": 6,
   "metadata": {
    "colab": {},
    "colab_type": "code",
    "id": "FYqb-Py14xRK"
   },
   "outputs": [],
   "source": [
    "x_flat = x_train.reshape((N_train,dim0*dim1))"
   ]
  },
  {
   "cell_type": "markdown",
   "metadata": {
    "colab_type": "text",
    "id": "q_dmd2oZ2OhK"
   },
   "source": [
    "Next, a multi-class problem requires one-hot codification of labels (Y_train & Y_test)"
   ]
  },
  {
   "cell_type": "code",
   "execution_count": 7,
   "metadata": {
    "colab": {},
    "colab_type": "code",
    "id": "nnBmx4De2FDa"
   },
   "outputs": [],
   "source": [
    "from tensorflow.keras.utils import to_categorical\n",
    "\n",
    "# Convert labels to categorical one-hot encoding\n",
    "y_1hot = to_categorical(y_train, num_classes=num_classes)"
   ]
  },
  {
   "cell_type": "markdown",
   "metadata": {
    "colab_type": "text",
    "id": "RjTuHuom21ng"
   },
   "source": [
    "Learn the model"
   ]
  },
  {
   "cell_type": "code",
   "execution_count": 7,
   "metadata": {
    "colab": {
     "base_uri": "https://localhost:8080/",
     "height": 523
    },
    "colab_type": "code",
    "executionInfo": {
     "elapsed": 31742,
     "status": "ok",
     "timestamp": 1564080400818,
     "user": {
      "displayName": "alfredo cuesta infante Universidad Rey Juan Carlos",
      "photoUrl": "https://lh4.googleusercontent.com/-z9Tr7G7VUMk/AAAAAAAAAAI/AAAAAAAAAAc/gH3qm0UbcIo/s64/photo.jpg",
      "userId": "17488335604138000921"
     },
     "user_tz": -120
    },
    "id": "Ta4SlQ_x244O",
    "outputId": "4d6df649-cdc1-448d-de82-30b2c3b16233"
   },
   "outputs": [
    {
     "name": "stderr",
     "output_type": "stream",
     "text": [
      "W0725 18:46:13.595651 140481870894976 deprecation.py:323] From /usr/local/lib/python3.6/dist-packages/tensorflow/python/ops/math_grad.py:1250: add_dispatch_support.<locals>.wrapper (from tensorflow.python.ops.array_ops) is deprecated and will be removed in a future version.\n",
      "Instructions for updating:\n",
      "Use tf.where in 2.0, which has the same broadcast rule as np.where\n",
      "W0725 18:46:13.667996 140481870894976 deprecation_wrapper.py:119] From /usr/local/lib/python3.6/dist-packages/keras/backend/tensorflow_backend.py:986: The name tf.assign_add is deprecated. Please use tf.compat.v1.assign_add instead.\n",
      "\n"
     ]
    },
    {
     "name": "stdout",
     "output_type": "stream",
     "text": [
      "Epoch 1/10\n",
      "60000/60000 [==============================] - 4s 62us/step - loss: 6.9073 - acc: 0.5653\n",
      "Epoch 2/10\n",
      "60000/60000 [==============================] - 3s 51us/step - loss: 5.7116 - acc: 0.6424\n",
      "Epoch 3/10\n",
      "60000/60000 [==============================] - 3s 47us/step - loss: 4.6159 - acc: 0.7102\n",
      "Epoch 4/10\n",
      "60000/60000 [==============================] - 3s 45us/step - loss: 4.0965 - acc: 0.7432\n",
      "Epoch 5/10\n",
      "60000/60000 [==============================] - 3s 45us/step - loss: 4.0120 - acc: 0.7490\n",
      "Epoch 6/10\n",
      "60000/60000 [==============================] - 3s 45us/step - loss: 3.9603 - acc: 0.7525\n",
      "Epoch 7/10\n",
      "60000/60000 [==============================] - 3s 45us/step - loss: 3.9134 - acc: 0.7555\n",
      "Epoch 8/10\n",
      "60000/60000 [==============================] - 3s 45us/step - loss: 3.8853 - acc: 0.7573\n",
      "Epoch 9/10\n",
      "60000/60000 [==============================] - 3s 45us/step - loss: 3.8366 - acc: 0.7604\n",
      "Epoch 10/10\n",
      "60000/60000 [==============================] - 3s 45us/step - loss: 3.8445 - acc: 0.7601\n"
     ]
    },
    {
     "data": {
      "text/plain": [
       "<keras.callbacks.History at 0x7fc458dd93c8>"
      ]
     },
     "execution_count": 7,
     "metadata": {
      "tags": []
     },
     "output_type": "execute_result"
    }
   ],
   "source": [
    "# Train the model, iterating on the data in batches of 32 samples\n",
    "N_epochs = 10\n",
    "batch_size = 32\n",
    "model.fit(x_flat, y_1hot, epochs=N_epochs, batch_size=batch_size)"
   ]
  },
  {
   "cell_type": "markdown",
   "metadata": {
    "colab_type": "text",
    "id": "JCOOvn-U8yIy"
   },
   "source": [
    "## Test"
   ]
  },
  {
   "cell_type": "markdown",
   "metadata": {
    "colab_type": "text",
    "id": "JFV393Fb9SS2"
   },
   "source": [
    "As when learning, prior to testing, we have to flatten the test images and one-hot-code the labels"
   ]
  },
  {
   "cell_type": "code",
   "execution_count": 0,
   "metadata": {
    "colab": {},
    "colab_type": "code",
    "id": "zHo0GJvV80Xw"
   },
   "outputs": [],
   "source": [
    "x = x_test.reshape((N_test,dim0*dim1))\n",
    "y = to_categorical(y_test, num_classes=num_classes)"
   ]
  },
  {
   "cell_type": "code",
   "execution_count": 0,
   "metadata": {
    "colab": {},
    "colab_type": "code",
    "id": "H23IeqsK_A76"
   },
   "outputs": [],
   "source": [
    "yhat = model.predict(x)\n",
    "class_hat = model.predict_classes(x)"
   ]
  },
  {
   "cell_type": "code",
   "execution_count": 10,
   "metadata": {
    "colab": {
     "base_uri": "https://localhost:8080/",
     "height": 54
    },
    "colab_type": "code",
    "executionInfo": {
     "elapsed": 32400,
     "status": "ok",
     "timestamp": 1564080401548,
     "user": {
      "displayName": "alfredo cuesta infante Universidad Rey Juan Carlos",
      "photoUrl": "https://lh4.googleusercontent.com/-z9Tr7G7VUMk/AAAAAAAAAAI/AAAAAAAAAAc/gH3qm0UbcIo/s64/photo.jpg",
      "userId": "17488335604138000921"
     },
     "user_tz": -120
    },
    "id": "EkRy5kBo8__w",
    "outputId": "ba3fc38f-ed86-4ed6-e52c-8e6b1444a08e"
   },
   "outputs": [
    {
     "name": "stdout",
     "output_type": "stream",
     "text": [
      "10000/10000 [==============================] - 0s 11us/step\n",
      "[3.8354277473449705, 0.7614]\n"
     ]
    }
   ],
   "source": [
    "score = model.evaluate(x, y, batch_size=128)\n",
    "print(score)"
   ]
  },
  {
   "cell_type": "code",
   "execution_count": 11,
   "metadata": {
    "colab": {
     "base_uri": "https://localhost:8080/",
     "height": 325
    },
    "colab_type": "code",
    "executionInfo": {
     "elapsed": 32348,
     "status": "ok",
     "timestamp": 1564080401558,
     "user": {
      "displayName": "alfredo cuesta infante Universidad Rey Juan Carlos",
      "photoUrl": "https://lh4.googleusercontent.com/-z9Tr7G7VUMk/AAAAAAAAAAI/AAAAAAAAAAc/gH3qm0UbcIo/s64/photo.jpg",
      "userId": "17488335604138000921"
     },
     "user_tz": -120
    },
    "id": "foSxBR40_pA-",
    "outputId": "9294443a-2107-4bcd-8c81-1d36cfd686fa"
   },
   "outputs": [
    {
     "name": "stdout",
     "output_type": "stream",
     "text": [
      "[0. 0. 0. 0. 0. 0. 1. 0. 0. 0.] <-- y\n",
      "[0. 0. 0. 0. 0. 0. 1. 0. 0. 0.] <-- yhat: number 6\n"
     ]
    },
    {
     "data": {
      "text/plain": [
       "<matplotlib.image.AxesImage at 0x7fc43d0c7a20>"
      ]
     },
     "execution_count": 11,
     "metadata": {
      "tags": []
     },
     "output_type": "execute_result"
    },
    {
     "data": {
      "image/png": "[encoded data removed]",
      "text/plain": [
       "<Figure size 432x288 with 1 Axes>"
      ]
     },
     "metadata": {
      "tags": []
     },
     "output_type": "display_data"
    }
   ],
   "source": [
    "''' Try the test image number K '''\n",
    "k = 1196\n",
    "print(y[k,:],'<-- y')\n",
    "print(yhat[k,:],'<-- yhat:','number',class_hat[k])\n",
    "plt.imshow(x_test[k,:,:])"
   ]
  }
 ],
 "metadata": {
  "accelerator": "TPU",
  "colab": {
   "collapsed_sections": [
    "a36yDHQK0Tny",
    "kjWNP6d00bdG",
    "3CfLnCDn7trc",
    "JCOOvn-U8yIy"
   ],
   "name": "01_keras_FCNN.ipynb",
   "provenance": [],
   "version": "0.3.2"
  },
  "kernelspec": {
   "display_name": "Python 3",
   "language": "python",
   "name": "python3"
  },
  "language_info": {
   "codemirror_mode": {
    "name": "ipython",
    "version": 3
   },
   "file_extension": ".py",
   "mimetype": "text/x-python",
   "name": "python",
   "nbconvert_exporter": "python",
   "pygments_lexer": "ipython3",
   "version": "3.7.9"
  }
 },
 "nbformat": 4,
 "nbformat_minor": 1
}
