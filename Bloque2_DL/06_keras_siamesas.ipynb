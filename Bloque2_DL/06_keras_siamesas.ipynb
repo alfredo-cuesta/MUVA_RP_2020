{
 "cells": [
  {
   "cell_type": "markdown",
   "metadata": {
    "colab_type": "text",
    "id": "ZajwX0GI-GuX"
   },
   "source": [
    "# Redes Siamesas \n",
    "\n",
    "En este cuaderno vamos a construir una red siamesa\n",
    "\n",
    "Una novedad importante de este cuaderno es que vamos a utilizar una capa con una función que diseñaremos nosotros.\n",
    "\n",
    "---\n",
    "\n",
    "    [ES] Código de Alfredo Cuesta Infante para 'Reconocimiento de Patrones'\n",
    "       @ Master Universitario en Visión Artificial, 2020, URJC (España)\n",
    "    [EN] Code by Alfredo Cuesta-Infante for 'Pattern Recognition'\n",
    "       @ Master of Computer Vision, 2020, URJC (Spain)\n",
    "\n",
    "    alfredo.cuesta@urjc.es "
   ]
  },
  {
   "cell_type": "code",
   "execution_count": 1,
   "metadata": {
    "colab": {
     "base_uri": "https://localhost:8080/",
     "height": 36
    },
    "colab_type": "code",
    "executionInfo": {
     "elapsed": 1975,
     "status": "ok",
     "timestamp": 1542862865854,
     "user": {
      "displayName": "ALFREDO CUESTA INFANTE",
      "photoUrl": "",
      "userId": "17798100327763687132"
     },
     "user_tz": -60
    },
    "id": "DQPBOxHIdfXv",
    "outputId": "61fa97b5-9bd1-46e3-e8b4-618cd01515a3"
   },
   "outputs": [],
   "source": [
    "#-[0]. General purpose packages\n",
    "\n",
    "import numpy as np\n",
    "import matplotlib.pyplot as plt\n",
    "np.random.seed(2020) ##<- for reproducibility\n",
    "\n",
    "#-[1]. Load images. Keras has a few benchmark datasets readily available.\n",
    "\n",
    "from tensorflow.keras.datasets import mnist\n",
    "(X_train, y_train), (X_test, y_test) = mnist.load_data()\n",
    "\n",
    "#--- Get info of train and test data sets\n",
    "N_train,dim0,dim1 = X_train.shape\n",
    "N_test,dim0,dim1  = X_test.shape\n",
    "input_dim = dim0*dim1\n",
    "\n",
    "# the data, shuffled and split between train and test sets\n",
    "X_train = X_train.reshape(N_train, input_dim)\n",
    "X_test = X_test.reshape(N_test, input_dim)\n",
    "X_train = X_train.astype('float32')\n",
    "X_test = X_test.astype('float32')\n",
    "X_train /= 255\n",
    "X_test /= 255"
   ]
  },
  {
   "cell_type": "markdown",
   "metadata": {},
   "source": [
    "## Creación de la red"
   ]
  },
  {
   "cell_type": "code",
   "execution_count": 2,
   "metadata": {
    "colab": {
     "base_uri": "https://localhost:8080/",
     "height": 36
    },
    "colab_type": "code",
    "executionInfo": {
     "elapsed": 1975,
     "status": "ok",
     "timestamp": 1542862865854,
     "user": {
      "displayName": "ALFREDO CUESTA INFANTE",
      "photoUrl": "",
      "userId": "17798100327763687132"
     },
     "user_tz": -60
    },
    "id": "DQPBOxHIdfXv",
    "outputId": "61fa97b5-9bd1-46e3-e8b4-618cd01515a3"
   },
   "outputs": [],
   "source": [
    "#from __future__ import absolute_import\n",
    "#from __future__ import print_function\n",
    "\n",
    "from tensorflow.keras.datasets import mnist\n",
    "from tensorflow.keras.models import Sequential, Model\n",
    "from tensorflow.keras.layers import Dense, Dropout, Input, Lambda\n",
    "from tensorflow.keras.optimizers import SGD, RMSprop\n",
    "from tensorflow.keras import backend as K"
   ]
  },
  {
   "cell_type": "markdown",
   "metadata": {
    "colab_type": "text",
    "id": "un-msfFf-TXq"
   },
   "source": [
    "#### Distancia L1 punto a punto entre dos vectores"
   ]
  },
  {
   "cell_type": "code",
   "execution_count": 3,
   "metadata": {
    "colab": {},
    "colab_type": "code",
    "id": "DwKCIqpK-cKq"
   },
   "outputs": [],
   "source": [
    "def get_abs_diff(vects):\n",
    "    # L1 distance between two vectors\n",
    "    x, y = vects\n",
    "    return K.abs(x - y)"
   ]
  },
  {
   "cell_type": "markdown",
   "metadata": {
    "colab_type": "text",
    "id": "G05vHfOC-d2y"
   },
   "source": [
    "#### Función para devolver las dims. de la \"capa\" que calcula la dif. L1."
   ]
  },
  {
   "cell_type": "code",
   "execution_count": 4,
   "metadata": {
    "colab": {},
    "colab_type": "code",
    "id": "m-VwaYFldjWB"
   },
   "outputs": [],
   "source": [
    "def abs_diff_output_shape(shapes):\n",
    "    shape1, shape2 = shapes\n",
    "    return shape1 "
   ]
  },
  {
   "cell_type": "markdown",
   "metadata": {
    "colab_type": "text",
    "id": "dk2Eb4u9-2uV"
   },
   "source": [
    "#### Crear la red neuronal *base*"
   ]
  },
  {
   "cell_type": "code",
   "execution_count": 5,
   "metadata": {
    "colab": {},
    "colab_type": "code",
    "id": "1xOJV5eXdpRa"
   },
   "outputs": [],
   "source": [
    "def create_base_network(input_dim):\n",
    "    '''Base network to be shared (eq. to feature extraction).\n",
    "    '''\n",
    "    seq = Sequential()\n",
    "    seq.add(Dense(128, input_shape=(input_dim,), activation='relu'))\n",
    "    seq.add(Dropout(0.1))\n",
    "    seq.add(Dense(128, activation='relu'))\n",
    "    seq.add(Dropout(0.1))\n",
    "    seq.add(Dense(128, activation='relu'))\n",
    "    return seq"
   ]
  },
  {
   "cell_type": "markdown",
   "metadata": {
    "colab_type": "text",
    "id": "36VgZYvt_jjd"
   },
   "source": [
    "#### Crear la red siamesa y compilar el modelo"
   ]
  },
  {
   "cell_type": "code",
   "execution_count": 6,
   "metadata": {
    "colab": {
     "base_uri": "https://localhost:8080/",
     "height": 56
    },
    "colab_type": "code",
    "executionInfo": {
     "elapsed": 930,
     "status": "ok",
     "timestamp": 1542862933404,
     "user": {
      "displayName": "ALFREDO CUESTA INFANTE",
      "photoUrl": "",
      "userId": "17798100327763687132"
     },
     "user_tz": -60
    },
    "id": "BPv9duyseGS-",
    "outputId": "a222549f-564f-43e1-fdb5-12832721ddbb"
   },
   "outputs": [
    {
     "name": "stdout",
     "output_type": "stream",
     "text": [
      "Model: \"functional_1\"\n",
      "__________________________________________________________________________________________________\n",
      "Layer (type)                    Output Shape         Param #     Connected to                     \n",
      "==================================================================================================\n",
      "input_1 (InputLayer)            [(None, 784)]        0                                            \n",
      "__________________________________________________________________________________________________\n",
      "input_2 (InputLayer)            [(None, 784)]        0                                            \n",
      "__________________________________________________________________________________________________\n",
      "sequential (Sequential)         (None, 128)          133504      input_1[0][0]                    \n",
      "                                                                 input_2[0][0]                    \n",
      "__________________________________________________________________________________________________\n",
      "lambda (Lambda)                 (None, 128)          0           sequential[0][0]                 \n",
      "                                                                 sequential[1][0]                 \n",
      "__________________________________________________________________________________________________\n",
      "dense_3 (Dense)                 (None, 1)            129         lambda[0][0]                     \n",
      "==================================================================================================\n",
      "Total params: 133,633\n",
      "Trainable params: 133,633\n",
      "Non-trainable params: 0\n",
      "__________________________________________________________________________________________________\n"
     ]
    }
   ],
   "source": [
    "# network definition\n",
    "base_network = create_base_network(input_dim)\n",
    "\n",
    "input_a = Input(shape=(input_dim,))\n",
    "input_b = Input(shape=(input_dim,))\n",
    "\n",
    "# because we re-use the same instance `base_network`,\n",
    "# the weights of the network will be shared across the two branches\n",
    "processed_a = base_network(input_a)\n",
    "processed_b = base_network(input_b)\n",
    "\n",
    "\n",
    "abs_diff = Lambda(get_abs_diff, output_shape = abs_diff_output_shape)([processed_a, processed_b])\n",
    "\n",
    "flattened_weighted_distance = Dense(1, activation = 'sigmoid')(abs_diff)\n",
    "\n",
    "model = Model([input_a, input_b], flattened_weighted_distance)\n",
    "\n",
    "rms = RMSprop()\n",
    "model.compile(loss = 'binary_crossentropy', optimizer=rms, metrics = ['accuracy'])\n",
    "\n",
    "model.summary()"
   ]
  },
  {
   "cell_type": "markdown",
   "metadata": {
    "colab_type": "text",
    "id": "-3iTJBjhd40a"
   },
   "source": [
    "## Entrenamiento"
   ]
  },
  {
   "cell_type": "markdown",
   "metadata": {
    "colab_type": "text",
    "id": "BxkL_M6Q-0NV"
   },
   "source": [
    "#### Función para crear Pares de ejemplos positivos y negativos a partir del conjunto de entrenamiento"
   ]
  },
  {
   "cell_type": "code",
   "execution_count": 7,
   "metadata": {
    "colab": {},
    "colab_type": "code",
    "id": "afNJQKR-dnNJ"
   },
   "outputs": [],
   "source": [
    "import random\n",
    "def create_pairs(x, digit_indices):\n",
    "    '''Positive and negative pair creation.\n",
    "    Alternates between positive and negative pairs.\n",
    "    '''\n",
    "    pairs = []\n",
    "    labels = []\n",
    "    n = min([len(digit_indices[d]) for d in range(10)]) - 1\n",
    "    for d in range(10):\n",
    "        for i in range(n):\n",
    "            z1, z2 = digit_indices[d][i], digit_indices[d][i+1]\n",
    "            pairs += [[x[z1], x[z2]]]\n",
    "            inc = random.randrange(1, 10)\n",
    "            dn = (d + inc) % 10\n",
    "            z1, z2 = digit_indices[d][i], digit_indices[dn][i]\n",
    "            pairs += [[x[z1], x[z2]]]\n",
    "            labels += [1, 0]\n",
    "    return np.array(pairs), np.array(labels)"
   ]
  },
  {
   "cell_type": "markdown",
   "metadata": {
    "colab_type": "text",
    "id": "7e79ayTK_OWi"
   },
   "source": [
    "### Crear conjuntos etiquetados de entrenamiento y test"
   ]
  },
  {
   "cell_type": "code",
   "execution_count": 8,
   "metadata": {
    "colab": {},
    "colab_type": "code",
    "id": "KfWwJ8HLeB29"
   },
   "outputs": [],
   "source": [
    "# create training+test positive and negative pairs\n",
    "\n",
    "digit_indices = [np.where(y_train == i)[0] for i in range(10)]\n",
    "tr_pairs, tr_y = create_pairs(X_train, digit_indices)\n",
    "\n",
    "digit_indices = [np.where(y_test == i)[0] for i in range(10)]\n",
    "te_pairs, te_y = create_pairs(X_test, digit_indices)"
   ]
  },
  {
   "cell_type": "markdown",
   "metadata": {
    "colab_type": "text",
    "id": "wOx07vE2_ns-"
   },
   "source": [
    "### Entrenar"
   ]
  },
  {
   "cell_type": "code",
   "execution_count": 9,
   "metadata": {
    "colab": {
     "base_uri": "https://localhost:8080/",
     "height": 299
    },
    "colab_type": "code",
    "executionInfo": {
     "elapsed": 42536,
     "status": "ok",
     "timestamp": 1542863016049,
     "user": {
      "displayName": "ALFREDO CUESTA INFANTE",
      "photoUrl": "",
      "userId": "17798100327763687132"
     },
     "user_tz": -60
    },
    "id": "LdIbXDRieZHL",
    "outputId": "aab03cbb-a28c-47de-ce09-45793b3a99b9"
   },
   "outputs": [
    {
     "name": "stdout",
     "output_type": "stream",
     "text": [
      "Epoch 1/5\n",
      "847/847 [==============================] - 4s 5ms/step - loss: 0.3156 - accuracy: 0.8640 - val_loss: 0.2473 - val_accuracy: 0.9152\n",
      "Epoch 2/5\n",
      "847/847 [==============================] - 4s 5ms/step - loss: 0.1533 - accuracy: 0.9439 - val_loss: 0.1508 - val_accuracy: 0.9519\n",
      "Epoch 3/5\n",
      "847/847 [==============================] - 4s 5ms/step - loss: 0.1006 - accuracy: 0.9641 - val_loss: 0.1125 - val_accuracy: 0.9664\n",
      "Epoch 4/5\n",
      "847/847 [==============================] - 4s 5ms/step - loss: 0.0764 - accuracy: 0.9731 - val_loss: 0.0864 - val_accuracy: 0.9726\n",
      "Epoch 5/5\n",
      "847/847 [==============================] - 4s 5ms/step - loss: 0.0623 - accuracy: 0.9781 - val_loss: 0.0881 - val_accuracy: 0.9730\n"
     ]
    },
    {
     "data": {
      "text/plain": [
       "<tensorflow.python.keras.callbacks.History at 0x7f40b1b11410>"
      ]
     },
     "execution_count": 9,
     "metadata": {},
     "output_type": "execute_result"
    }
   ],
   "source": [
    "# train\n",
    "\n",
    "epochs = 5\n",
    "\n",
    "model.fit([tr_pairs[:, 0], tr_pairs[:, 1]], tr_y,\n",
    "          validation_data=([te_pairs[:, 0], te_pairs[:, 1]], te_y),\n",
    "          batch_size=128, epochs=epochs)"
   ]
  },
  {
   "cell_type": "markdown",
   "metadata": {
    "colab_type": "text",
    "id": "tLKiXvGk_tm3"
   },
   "source": [
    "### Test"
   ]
  },
  {
   "cell_type": "code",
   "execution_count": 10,
   "metadata": {
    "colab": {
     "base_uri": "https://localhost:8080/",
     "height": 54
    },
    "colab_type": "code",
    "executionInfo": {
     "elapsed": 39870,
     "status": "ok",
     "timestamp": 1542863019327,
     "user": {
      "displayName": "ALFREDO CUESTA INFANTE",
      "photoUrl": "",
      "userId": "17798100327763687132"
     },
     "user_tz": -60
    },
    "id": "z-wBUlkxc2Ho",
    "outputId": "48c0d0ed-d1e3-43d6-9612-f3d3af64df1d"
   },
   "outputs": [
    {
     "name": "stdout",
     "output_type": "stream",
     "text": [
      "* Accuracy on the training set: 98.52%\n",
      "* Accuracy on the test set: 97.30%\n"
     ]
    }
   ],
   "source": [
    "from sklearn.metrics import accuracy_score as accuracy\n",
    "\n",
    "# compute final accuracy on training and test sets\n",
    "tr_pred = model.predict([tr_pairs[:, 0], tr_pairs[:, 1]])\n",
    "tr_acc = accuracy(tr_y, tr_pred.round())\n",
    "\n",
    "te_pred = model.predict([te_pairs[:, 0], te_pairs[:, 1]])\n",
    "te_acc = accuracy(te_y, te_pred.round())\n",
    "\n",
    "print('* Accuracy on the training set: {:.2%}'.format(tr_acc))\n",
    "print('* Accuracy on the test set: {:.2%}'.format(te_acc))\n",
    "\n"
   ]
  }
 ],
 "metadata": {
  "colab": {
   "collapsed_sections": [
    "ysGZxJ4Y-NgV",
    "un-msfFf-TXq",
    "G05vHfOC-d2y",
    "BxkL_M6Q-0NV",
    "dk2Eb4u9-2uV",
    "zKXzCAJ9_Cao",
    "7e79ayTK_OWi",
    "36VgZYvt_jjd",
    "wOx07vE2_ns-",
    "tLKiXvGk_tm3"
   ],
   "name": "06_keras_siamesas.ipynb",
   "provenance": [],
   "version": "0.3.2"
  },
  "kernelspec": {
   "display_name": "Python 3",
   "language": "python",
   "name": "python3"
  },
  "language_info": {
   "codemirror_mode": {
    "name": "ipython",
    "version": 3
   },
   "file_extension": ".py",
   "mimetype": "text/x-python",
   "name": "python",
   "nbconvert_exporter": "python",
   "pygments_lexer": "ipython3",
   "version": "3.7.9"
  }
 },
 "nbformat": 4,
 "nbformat_minor": 1
}
