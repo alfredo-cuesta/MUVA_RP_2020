{
 "cells": [
  {
   "cell_type": "markdown",
   "metadata": {
    "colab_type": "text",
    "id": "1KI5HO6c0MQy"
   },
   "source": [
    "# Redes neuronales convolucionales \n",
    "\n",
    "En este cuaderno vamos a construir redes neurnales convolucionales (_Convolutional Neural Networks_, CNN).\n",
    "\n",
    "+ Este tipo de redes se caracteriza porque las neuronas de una capa NO se conectan con todas las neuronas de la capa anterior, sino que se conectan a un pequeño grupo de ellas, que además tienen una relación de vecindad.\n",
    "+ La combinación lineal de las entradas que se realiza dentro de cada neurona se puede interpretar como si los pesos fueran un filtro de convolución (o correlación) y por tanto su salida será alta cuando la vecindad que están evaluando se parece a dicho filtro. \n",
    "+ Cuando se aplica a imágenes, el resultado es otra imagen donde las vecindades con mayor intensidad son aquellos que se parecen al filtro. \n",
    "+ Si en vez de un único filtro aprendemos varios, entonces estamos extrayendo aquellas características visuales de bajo nivel que se parezcan a los filtros que se aprendan.\n",
    "+ Las CNN intercalan neuronas convolucionales con etapas de agrupamiento (_pooling_) para aproximar aquellos píxeles resultantes de la convolución que han sido resaltados por los filtros.\n",
    "\n",
    "---\n",
    "\n",
    "    [ES] Código de Alfredo Cuesta Infante para 'Reconocimiento de Patrones'\n",
    "       @ Master Universitario en Visión Artificial, 2020, URJC (España)\n",
    "    [EN] Code by Alfredo Cuesta-Infante for 'Pattern Recognition'\n",
    "       @ Master of Computer Vision, 2020, URJC (Spain)\n",
    "\n",
    "    alfredo.cuesta@urjc.es    "
   ]
  },
  {
   "cell_type": "code",
   "execution_count": 1,
   "metadata": {
    "colab": {},
    "colab_type": "code",
    "id": "0Kd8kmCJ8FzY"
   },
   "outputs": [],
   "source": [
    "#-[0]. General purpose packages\n",
    "\n",
    "import numpy as np\n",
    "import matplotlib.pyplot as plt"
   ]
  },
  {
   "cell_type": "markdown",
   "metadata": {
    "colab_type": "text",
    "id": "a36yDHQK0Tny"
   },
   "source": [
    "**Cargar el MNIST**"
   ]
  },
  {
   "cell_type": "code",
   "execution_count": 2,
   "metadata": {
    "cellView": "code",
    "colab": {
     "base_uri": "https://localhost:8080/",
     "height": 73
    },
    "colab_type": "code",
    "executionInfo": {
     "elapsed": 8585,
     "status": "ok",
     "timestamp": 1573748153656,
     "user": {
      "displayName": "alfredo cuesta infante Universidad Rey Juan Carlos",
      "photoUrl": "https://lh3.googleusercontent.com/a-/AAuE7mD0b4XSkrh_rJCoTmgJ-8PhQuMJ0ghZkDfkaDYb=s64",
      "userId": "17488335604138000921"
     },
     "user_tz": -60
    },
    "id": "1-qDDIYSvF0W",
    "outputId": "1572443e-5264-4a48-9c42-d0b9957728b1"
   },
   "outputs": [],
   "source": [
    "#-[1]. Load images. Keras has a few benchmark datasets readily available.\n",
    "\n",
    "from tensorflow.keras.datasets import mnist\n",
    "(x_train, y_train), (x_test, y_test) = mnist.load_data()\n",
    "\n",
    "#--- Get info of train and test data sets\n",
    "N_train,dim0,dim1 = x_train.shape\n",
    "N_test,dim0,dim1  = x_test.shape\n",
    "num_classes = 10\n",
    "num_pixels = dim0*dim1"
   ]
  },
  {
   "cell_type": "markdown",
   "metadata": {
    "colab_type": "text",
    "id": "kjWNP6d00bdG"
   },
   "source": [
    "### Construcción de la red\n",
    "+ Una red convolucional básica (tipo LeNet o AlexNet) tiene:\n",
    "    + Una capa de entrada\n",
    "    + Una o varias etapas convolución y agrupamiento\n",
    "    + Un cabezal clasificador\n",
    "\n",
    "Keras nos proporciona objetos para replicar esta estructura de capas\n",
    "+ **La capa de entrada** es similar a la capa de entrada de las redes densas.\n",
    "+ **Cada etapa de convolución y agrupamiento** consiste en una capa con neuronas convolucionales, con una cierta activación, seguida de una capa de agrupamiento, típicamente _MaxPooling_.\n",
    "+ **El cabezal clasificador** es una red neuronal para clasificar que utiliza como entrada el mapa de características producido por la última etapa de convolución+agrupamiento serializado"
   ]
  },
  {
   "cell_type": "code",
   "execution_count": 3,
   "metadata": {
    "colab": {
     "base_uri": "https://localhost:8080/",
     "height": 111
    },
    "colab_type": "code",
    "executionInfo": {
     "elapsed": 1647,
     "status": "ok",
     "timestamp": 1573748271480,
     "user": {
      "displayName": "alfredo cuesta infante Universidad Rey Juan Carlos",
      "photoUrl": "https://lh3.googleusercontent.com/a-/AAuE7mD0b4XSkrh_rJCoTmgJ-8PhQuMJ0ghZkDfkaDYb=s64",
      "userId": "17488335604138000921"
     },
     "user_tz": -60
    },
    "id": "RtdiOOonwUcU",
    "outputId": "f139655c-be7d-4e5f-9fa4-7988868dffba"
   },
   "outputs": [
    {
     "name": "stdout",
     "output_type": "stream",
     "text": [
      "Model: \"functional_1\"\n",
      "_________________________________________________________________\n",
      "Layer (type)                 Output Shape              Param #   \n",
      "=================================================================\n",
      "input_1 (InputLayer)         [(None, 28, 28, 1)]       0         \n",
      "_________________________________________________________________\n",
      "conv2d (Conv2D)              (None, 28, 28, 16)        160       \n",
      "_________________________________________________________________\n",
      "max_pooling2d (MaxPooling2D) (None, 14, 14, 16)        0         \n",
      "_________________________________________________________________\n",
      "conv2d_1 (Conv2D)            (None, 14, 14, 16)        2320      \n",
      "_________________________________________________________________\n",
      "max_pooling2d_1 (MaxPooling2 (None, 7, 7, 16)          0         \n",
      "_________________________________________________________________\n",
      "conv2d_2 (Conv2D)            (None, 7, 7, 32)          4640      \n",
      "_________________________________________________________________\n",
      "max_pooling2d_2 (MaxPooling2 (None, 3, 3, 32)          0         \n",
      "_________________________________________________________________\n",
      "flatten (Flatten)            (None, 288)               0         \n",
      "_________________________________________________________________\n",
      "dense (Dense)                (None, 64)                18496     \n",
      "_________________________________________________________________\n",
      "dense_1 (Dense)              (None, 10)                650       \n",
      "=================================================================\n",
      "Total params: 26,266\n",
      "Trainable params: 26,266\n",
      "Non-trainable params: 0\n",
      "_________________________________________________________________\n"
     ]
    }
   ],
   "source": [
    "from tensorflow.keras.layers import Input, Conv2D, MaxPooling2D, Activation\n",
    "from tensorflow.keras.layers import Flatten, Dense\n",
    "from tensorflow.keras.models import Model\n",
    "\n",
    "#- Input layer\n",
    "x = Input( shape=(dim0, dim1, 1) ) \n",
    "\n",
    "#- Convolution+Pooling layers\n",
    "h = Conv2D(16, (3, 3), activation='relu', padding='same')(x)\n",
    "h = MaxPooling2D((2, 2))(h)\n",
    "h = Conv2D(16, (3, 3), activation='relu', padding='same')(h)\n",
    "h = MaxPooling2D((2, 2))(h)\n",
    "h = Conv2D(32, (3, 3), activation='relu', padding='same')(h)\n",
    "z = MaxPooling2D((2, 2))(h)\n",
    "\n",
    "#- Classification header\n",
    "z = Flatten()(z)\n",
    "z = Dense(64, activation='relu')(z)\n",
    "y = Dense(num_classes, activation='softmax')(z)\n",
    "\n",
    "#- Put all in a model and compile\n",
    "cnn = Model(x,y)\n",
    "cnn.compile(optimizer='adam', loss='categorical_crossentropy')\n",
    "cnn.summary()"
   ]
  },
  {
   "cell_type": "markdown",
   "metadata": {
    "colab_type": "text",
    "id": "3CfLnCDn7trc"
   },
   "source": [
    "## Aprendizaje"
   ]
  },
  {
   "cell_type": "markdown",
   "metadata": {},
   "source": [
    "**1. Preparamos el conjunto de datos para que pueda ser procesado por el modelo**  <br>\n",
    "       _En este caso NO hace falta serializar las imágenes ya que la entrada de las CNN es típicamente imágenes._<br>\n",
    "       Es importante reflejar la profundidad de color. Normalmente será 1 para imágenes en escala de grises y 3 para RGB. <br>\n",
    "       Pero podría ser otro, por ejemplo 4 para RGB-D\n",
    "       \n",
    "**2. Preparamos también el vector de etiquetas para que tenga una representación 1-hot**"
   ]
  },
  {
   "cell_type": "code",
   "execution_count": 4,
   "metadata": {
    "colab": {},
    "colab_type": "code",
    "id": "FYqb-Py14xRK"
   },
   "outputs": [],
   "source": [
    "x_tensor = x_train.reshape((N_train,dim0,dim1,1))\n",
    "\n",
    "from tensorflow.keras.utils import to_categorical\n",
    "\n",
    "y_1hot = to_categorical(y_train, num_classes=num_classes)"
   ]
  },
  {
   "cell_type": "markdown",
   "metadata": {},
   "source": [
    "**3. Ejecutar el método FIT**<br>estandar\n",
    "_Tensorflow sigue el estandar de Scikit-Learn. Pero a diferencia de otros métodos que hemos visto de ML, en DL hay que especificar algunas otra opciones como el número de épocas o el tamaño del lote.\n",
    "+ El **número de épocas** indica cuantas veces se utiliza el conjunto de entrenamiento para realizar el aprendizaje\n",
    "+ El **tamaño del lote** es el número de muestras que se utilizan para calcular el descenso del gradiente."
   ]
  },
  {
   "cell_type": "code",
   "execution_count": 5,
   "metadata": {
    "colab": {
     "base_uri": "https://localhost:8080/",
     "height": 780
    },
    "colab_type": "code",
    "executionInfo": {
     "elapsed": 502206,
     "status": "ok",
     "timestamp": 1573749611159,
     "user": {
      "displayName": "alfredo cuesta infante Universidad Rey Juan Carlos",
      "photoUrl": "https://lh3.googleusercontent.com/a-/AAuE7mD0b4XSkrh_rJCoTmgJ-8PhQuMJ0ghZkDfkaDYb=s64",
      "userId": "17488335604138000921"
     },
     "user_tz": -60
    },
    "id": "Ta4SlQ_x244O",
    "outputId": "10b115c4-36a5-44da-b695-ec45e7d80764"
   },
   "outputs": [
    {
     "name": "stdout",
     "output_type": "stream",
     "text": [
      "1875/1875 [==============================] - 26s 14ms/step - loss: 0.2883\n"
     ]
    },
    {
     "data": {
      "text/plain": [
       "<tensorflow.python.keras.callbacks.History at 0x7f0195186b50>"
      ]
     },
     "execution_count": 5,
     "metadata": {},
     "output_type": "execute_result"
    }
   ],
   "source": [
    "# Train the model, iterating on the data in batches of 32 samples\n",
    "\n",
    "N_epochs = 1\n",
    "batch_size = 32\n",
    "cnn.fit(x_tensor, y_1hot, epochs=N_epochs, batch_size=batch_size)"
   ]
  },
  {
   "cell_type": "markdown",
   "metadata": {
    "colab_type": "text",
    "id": "JCOOvn-U8yIy"
   },
   "source": [
    "## Test"
   ]
  },
  {
   "cell_type": "code",
   "execution_count": 18,
   "metadata": {
    "colab": {},
    "colab_type": "code",
    "id": "H23IeqsK_A76"
   },
   "outputs": [
    {
     "name": "stdout",
     "output_type": "stream",
     "text": [
      "8 <-- y\n",
      "8 <-- yhat\n"
     ]
    },
    {
     "data": {
      "text/plain": [
       "<matplotlib.image.AxesImage at 0x7f014dff6a90>"
      ]
     },
     "execution_count": 18,
     "metadata": {},
     "output_type": "execute_result"
    },
    {
     "data": {
      "image/png": "[encoded data removed]",
      "text/plain": [
       "<Figure size 432x288 with 1 Axes>"
      ]
     },
     "metadata": {
      "needs_background": "light"
     },
     "output_type": "display_data"
    }
   ],
   "source": [
    "x = x_test.reshape((N_test,dim0,dim1,1))\n",
    "yhat = cnn.predict(x)\n",
    "\n",
    "k = 1234\n",
    "print(y_test[k] ,'<-- y')\n",
    "print(np.argmax(yhat[k,:]) ,'<-- yhat')\n",
    "plt.imshow(x_test[k,:,:])"
   ]
  },
  {
   "cell_type": "markdown",
   "metadata": {},
   "source": [
    "## Ejercicios\n",
    "\n",
    "1. Encapsular la construcción de la red en dos funciones:\n",
    "    + Una que reciba las imágenes de entrada y devuelva el mapa de características mediante una serie de etapas convolucionales+agrupamiento\n",
    "    + Y un cabezal clasificador construido con una *Fully Connected* de 10 salidas (una por clase).\n",
    "\n",
    "    Interesa que las funciones reciban como argunmento una lista de manera que que podamos configurar diferentes redes al invocarlas\n",
    "        \n",
    "        \n",
    "2. Crear un cabezal regresor utilizando únicamente neuronas convolucionales"
   ]
  }
 ],
 "metadata": {
  "accelerator": "TPU",
  "colab": {
   "collapsed_sections": [
    "a36yDHQK0Tny",
    "kjWNP6d00bdG",
    "4w2Y9htI2Ix2"
   ],
   "name": "02_keras_CNN.ipynb",
   "provenance": []
  },
  "kernelspec": {
   "display_name": "Python 3",
   "language": "python",
   "name": "python3"
  },
  "language_info": {
   "codemirror_mode": {
    "name": "ipython",
    "version": 3
   },
   "file_extension": ".py",
   "mimetype": "text/x-python",
   "name": "python",
   "nbconvert_exporter": "python",
   "pygments_lexer": "ipython3",
   "version": "3.7.9"
  }
 },
 "nbformat": 4,
 "nbformat_minor": 1
}
