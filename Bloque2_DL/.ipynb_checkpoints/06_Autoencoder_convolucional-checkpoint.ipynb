{
 "cells": [
  {
   "cell_type": "markdown",
   "metadata": {
    "colab_type": "text",
    "id": "1KI5HO6c0MQy"
   },
   "source": [
    "# Autoencoders convolucionales \n",
    "\n",
    "En este cuaderno vamos a construir autoencoders convolucionales.\n",
    "\n",
    "A diferencia de los autoencoders neuronales, aquí necesitamos una operación que *deshaga* el MaxPooling2D.\n",
    "\n",
    "---\n",
    "\n",
    "    [ES] Código de Alfredo Cuesta Infante para 'Reconocimiento de Patrones'\n",
    "       @ Master Universitario en Visión Artificial, 2020, URJC (España)\n",
    "    [EN] Code by Alfredo Cuesta-Infante for 'Pattern Recognition'\n",
    "       @ Master of Computer Vision, 2020, URJC (Spain)\n",
    "\n",
    "    alfredo.cuesta@urjc.es    "
   ]
  },
  {
   "cell_type": "code",
   "execution_count": 1,
   "metadata": {
    "colab": {},
    "colab_type": "code",
    "id": "0Kd8kmCJ8FzY"
   },
   "outputs": [],
   "source": [
    "#-[0]. General purpose packages\n",
    "\n",
    "import numpy as np\n",
    "import matplotlib.pyplot as plt"
   ]
  },
  {
   "cell_type": "markdown",
   "metadata": {
    "colab_type": "text",
    "id": "a36yDHQK0Tny"
   },
   "source": [
    "**Cargar el MNIST**"
   ]
  },
  {
   "cell_type": "code",
   "execution_count": 2,
   "metadata": {
    "cellView": "code",
    "colab": {
     "base_uri": "https://localhost:8080/",
     "height": 73
    },
    "colab_type": "code",
    "executionInfo": {
     "elapsed": 8585,
     "status": "ok",
     "timestamp": 1573748153656,
     "user": {
      "displayName": "alfredo cuesta infante Universidad Rey Juan Carlos",
      "photoUrl": "https://lh3.googleusercontent.com/a-/AAuE7mD0b4XSkrh_rJCoTmgJ-8PhQuMJ0ghZkDfkaDYb=s64",
      "userId": "17488335604138000921"
     },
     "user_tz": -60
    },
    "id": "1-qDDIYSvF0W",
    "outputId": "1572443e-5264-4a48-9c42-d0b9957728b1"
   },
   "outputs": [],
   "source": [
    "#-[1]. Load images. Keras has a few benchmark datasets readily available.\n",
    "\n",
    "from tensorflow.keras.datasets import mnist\n",
    "(x_train, _), (x_test, _) = mnist.load_data()\n",
    "\n",
    "#--- Get info of train and test data sets\n",
    "N_train,dim0,dim1 = x_train.shape\n",
    "N_test,dim0,dim1  = x_test.shape"
   ]
  },
  {
   "cell_type": "markdown",
   "metadata": {
    "colab_type": "text",
    "id": "kjWNP6d00bdG"
   },
   "source": [
    "### Construcción de la red\n",
    "En esta celda hay varias cosas interesantes:\n",
    "+ Como las imágenes del MNIST son $28\\times28$, cuando aplicamos `MaxPooling2D((2,2))` 2 veces obtenemos un mapa de características $7\\times7$. <br>\n",
    "Si volvemos a aplicar `MaxPooling2D((2,2))`, como ambas dimensiones son impares, y el padding por defecto es \"same\", el resultado $3\\times3$. <br>\n",
    "Pero esto supone un problema al reconstruir el código latente, porque acabamos en una imágen que no tiene las mismas dimensiones que la imagen de entrada.\n",
    "+ Este problema se ha resuelto modificando el padding como se muestra en el comentario del código.\n",
    "+ Otro tema interesante es que se ha utilizad una activación lineal para la última capa."
   ]
  },
  {
   "cell_type": "code",
   "execution_count": 3,
   "metadata": {},
   "outputs": [
    {
     "name": "stdout",
     "output_type": "stream",
     "text": [
      "Model: \"functional_1\"\n",
      "_________________________________________________________________\n",
      "Layer (type)                 Output Shape              Param #   \n",
      "=================================================================\n",
      "input_1 (InputLayer)         [(None, 28, 28, 1)]       0         \n",
      "_________________________________________________________________\n",
      "conv2d (Conv2D)              (None, 28, 28, 5)         50        \n",
      "_________________________________________________________________\n",
      "max_pooling2d (MaxPooling2D) (None, 14, 14, 5)         0         \n",
      "_________________________________________________________________\n",
      "conv2d_1 (Conv2D)            (None, 14, 14, 15)        690       \n",
      "_________________________________________________________________\n",
      "max_pooling2d_1 (MaxPooling2 (None, 7, 7, 15)          0         \n",
      "_________________________________________________________________\n",
      "conv2d_2 (Conv2D)            (None, 7, 7, 25)          3400      \n",
      "_________________________________________________________________\n",
      "max_pooling2d_2 (MaxPooling2 (None, 4, 4, 25)          0         \n",
      "_________________________________________________________________\n",
      "conv2d_3 (Conv2D)            (None, 4, 4, 25)          5650      \n",
      "_________________________________________________________________\n",
      "up_sampling2d (UpSampling2D) (None, 8, 8, 25)          0         \n",
      "_________________________________________________________________\n",
      "conv2d_4 (Conv2D)            (None, 8, 8, 25)          5650      \n",
      "_________________________________________________________________\n",
      "up_sampling2d_1 (UpSampling2 (None, 16, 16, 25)        0         \n",
      "_________________________________________________________________\n",
      "conv2d_5 (Conv2D)            (None, 14, 14, 25)        5650      \n",
      "_________________________________________________________________\n",
      "up_sampling2d_2 (UpSampling2 (None, 28, 28, 25)        0         \n",
      "_________________________________________________________________\n",
      "conv2d_6 (Conv2D)            (None, 28, 28, 1)         226       \n",
      "=================================================================\n",
      "Total params: 21,316\n",
      "Trainable params: 21,316\n",
      "Non-trainable params: 0\n",
      "_________________________________________________________________\n"
     ]
    }
   ],
   "source": [
    "def encoder3 (x, filter_list, activation=\"relu\"):\n",
    "    h1 = Conv2D(filter_list[0], (3,3), activation=activation, padding=\"same\")(x)\n",
    "    p1 = MaxPooling2D((2,2))(h1)\n",
    "    h2 = Conv2D(filter_list[1], (3,3), activation=activation, padding=\"same\")(p1)\n",
    "    p2 = MaxPooling2D((2,2))(h2)\n",
    "    h3 = Conv2D(filter_list[2], (3,3), activation=activation, padding=\"same\")(p2)\n",
    "    code = MaxPooling2D((2,2), padding=\"same\")(h3) #<-- padding = \"same\" !!\n",
    "    return code\n",
    "    \n",
    "def decoder3 (x, filter_list, activation=\"relu\"):\n",
    "    h1 = Conv2D(filter_list[0], (3, 3), activation='relu', padding='same')(x)\n",
    "    h2 = UpSampling2D((2, 2))(h1)\n",
    "    h3 = Conv2D(filter_list[1], (3, 3), activation='relu', padding='same')(h2)\n",
    "    h4 = UpSampling2D((2, 2))(h3)\n",
    "    h5 = Conv2D(filter_list[2], (3, 3), activation='relu', padding='valid')(h4) #<-- padding = \"valid\" !!\n",
    "    h6 = UpSampling2D((2, 2))(h5)    \n",
    "    y  = Conv2D(1,(3,3),  activation='linear', padding='same')(h6) \n",
    "    return y\n",
    "\n",
    "from tensorflow.keras.layers import Input, Conv2D, MaxPooling2D, Activation\n",
    "from tensorflow.keras.layers import Flatten, Dense, UpSampling2D\n",
    "from tensorflow.keras.models import Model\n",
    "\n",
    "#- Input layer\n",
    "x = Input( shape=(dim0, dim1, 1) ) \n",
    "#- encoder with 3 conv.layers\n",
    "filter_list = [5,15,25]\n",
    "code = encoder3(x, filter_list)\n",
    "#- decoder with 3 conv.layers\n",
    "filter_list = [25,15,5]\n",
    "x_pred = decoder3(code, filter_list)\n",
    "#- Put all in a model and compile\n",
    "ae = Model(x,x_pred)\n",
    "ae.compile(optimizer='adam', loss='mse')\n",
    "ae.summary()"
   ]
  },
  {
   "cell_type": "markdown",
   "metadata": {
    "colab_type": "text",
    "id": "3CfLnCDn7trc"
   },
   "source": [
    "## Aprendizaje"
   ]
  },
  {
   "cell_type": "markdown",
   "metadata": {},
   "source": [
    "**1. Preparamos el conjunto de datos para que pueda ser procesado por el modelo**  <br>\n",
    "       _En este caso NO hace falta serializar las imágenes ya que la entrada de las CNN es típicamente imágenes._<br>\n",
    "       Es importante reflejar la profundidad de color. Normalmente será 1 para imágenes en escala de grises y 3 para RGB. <br>\n",
    "       Pero podría ser otro, por ejemplo 4 para RGB-D\n",
    "       \n",
    "**2. Preparamos también el vector de etiquetas para que tenga una representación 1-hot**"
   ]
  },
  {
   "cell_type": "code",
   "execution_count": 4,
   "metadata": {
    "colab": {},
    "colab_type": "code",
    "id": "FYqb-Py14xRK"
   },
   "outputs": [],
   "source": [
    "x_tensor = x_train.reshape((N_train,dim0,dim1,1))"
   ]
  },
  {
   "cell_type": "markdown",
   "metadata": {},
   "source": [
    "**3. Ejecutar el método FIT**<br>\n",
    "Tensorflow sigue el estandar de Scikit-Learn. Pero a diferencia de otros métodos que hemos visto de ML, en DL hay que especificar algunas otra opciones como el número de épocas o el tamaño del lote.\n",
    "+ El **número de épocas** indica cuantas veces se utiliza el conjunto de entrenamiento para realizar el aprendizaje\n",
    "+ El **tamaño del lote** es el número de muestras que se utilizan para calcular el descenso del gradiente."
   ]
  },
  {
   "cell_type": "code",
   "execution_count": 5,
   "metadata": {
    "colab": {
     "base_uri": "https://localhost:8080/",
     "height": 780
    },
    "colab_type": "code",
    "executionInfo": {
     "elapsed": 502206,
     "status": "ok",
     "timestamp": 1573749611159,
     "user": {
      "displayName": "alfredo cuesta infante Universidad Rey Juan Carlos",
      "photoUrl": "https://lh3.googleusercontent.com/a-/AAuE7mD0b4XSkrh_rJCoTmgJ-8PhQuMJ0ghZkDfkaDYb=s64",
      "userId": "17488335604138000921"
     },
     "user_tz": -60
    },
    "id": "Ta4SlQ_x244O",
    "outputId": "10b115c4-36a5-44da-b695-ec45e7d80764"
   },
   "outputs": [
    {
     "name": "stdout",
     "output_type": "stream",
     "text": [
      "1875/1875 [==============================] - 93s 50ms/step - loss: 1187.8959\n"
     ]
    },
    {
     "data": {
      "text/plain": [
       "<tensorflow.python.keras.callbacks.History at 0x7f3bb407c550>"
      ]
     },
     "execution_count": 5,
     "metadata": {},
     "output_type": "execute_result"
    }
   ],
   "source": [
    "# Train the model, iterating on the data in batches of 32 samples\n",
    "\n",
    "N_epochs = 1\n",
    "batch_size = 32\n",
    "ae.fit(x_tensor, x_tensor, epochs=N_epochs, batch_size=batch_size)"
   ]
  },
  {
   "cell_type": "markdown",
   "metadata": {},
   "source": [
    "## Test"
   ]
  },
  {
   "cell_type": "markdown",
   "metadata": {},
   "source": [
    "**1. Debemos procesar los datos de test igual que procesamos los de entrenamiento**"
   ]
  },
  {
   "cell_type": "code",
   "execution_count": 6,
   "metadata": {},
   "outputs": [],
   "source": [
    "x_test_flat = x_test.reshape((N_test,dim0,dim1,1))"
   ]
  },
  {
   "cell_type": "markdown",
   "metadata": {},
   "source": [
    "**2. ejecutar el método PREDICT**"
   ]
  },
  {
   "cell_type": "code",
   "execution_count": 7,
   "metadata": {},
   "outputs": [],
   "source": [
    "x_reconstructed = ae.predict( x_test_flat )"
   ]
  },
  {
   "cell_type": "code",
   "execution_count": 8,
   "metadata": {},
   "outputs": [
    {
     "data": {
      "text/plain": [
       "<matplotlib.image.AxesImage at 0x7f3bac0ade50>"
      ]
     },
     "execution_count": 8,
     "metadata": {},
     "output_type": "execute_result"
    },
    {
     "data": {
      "image/png": "[encoded data removed]",
      "text/plain": [
       "<Figure size 432x288 with 2 Axes>"
      ]
     },
     "metadata": {
      "needs_background": "light"
     },
     "output_type": "display_data"
    }
   ],
   "source": [
    "k = 123\n",
    "plt.subplot(121)\n",
    "plt.imshow(x_test[k,:].reshape([28,28]))\n",
    "plt.subplot(122)\n",
    "plt.imshow(x_reconstructed[k,:].reshape([28,28]))"
   ]
  },
  {
   "cell_type": "code",
   "execution_count": null,
   "metadata": {},
   "outputs": [],
   "source": []
  }
 ],
 "metadata": {
  "accelerator": "TPU",
  "colab": {
   "collapsed_sections": [
    "a36yDHQK0Tny",
    "kjWNP6d00bdG",
    "4w2Y9htI2Ix2"
   ],
   "name": "02_keras_CNN.ipynb",
   "provenance": []
  },
  "kernelspec": {
   "display_name": "Python 3",
   "language": "python",
   "name": "python3"
  },
  "language_info": {
   "codemirror_mode": {
    "name": "ipython",
    "version": 3
   },
   "file_extension": ".py",
   "mimetype": "text/x-python",
   "name": "python",
   "nbconvert_exporter": "python",
   "pygments_lexer": "ipython3",
   "version": "3.7.9"
  }
 },
 "nbformat": 4,
 "nbformat_minor": 1
}
