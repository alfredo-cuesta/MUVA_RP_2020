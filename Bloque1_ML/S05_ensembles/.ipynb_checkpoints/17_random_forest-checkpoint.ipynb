{
 "cells": [
  {
   "cell_type": "markdown",
   "metadata": {},
   "source": [
    "# Random forests\n",
    "\n",
    "Random forests es un caso particular de bagging cuando se utiliza como clasificador base los árboles de decisión.<br>\n",
    "La técnica tiene como particularidad que al muestrear se elige un subconjunto de ejemplos y también uno de características.<br>\n",
    "Como resultado, además de un clasificador, RF ofrece un *score* de la importancia que las características tienen en el clasificador. \n",
    "\n",
    "---\n",
    "    [ES] Código de Alfredo Cuesta Infante para 'Reconocimiento de Patrones'\n",
    "       @ Master Universitario en Visión Artificial, 2020, URJC (España)\n",
    "    [EN] Code by Alfredo Cuesta-Infante for 'Pattern Recognition'\n",
    "       @ Master of Computer Vision, 2020, URJC (Spain)\n",
    "\n",
    "    alfredo.cuesta@urjc.es"
   ]
  },
  {
   "cell_type": "markdown",
   "metadata": {},
   "source": [
    "### Preliminares \n",
    "\n",
    "En la siguiente celda se realizan los siguientes pasos:\n",
    "1. carga de módulos genéricos\n",
    "2. leer los datos y cargarlos en dataframes\n",
    "2. extraer características\n",
    "2. separar en TRAIN y VALID\n",
    "2. seleccionar características y escalar TRAIN a [0,1]"
   ]
  },
  {
   "cell_type": "code",
   "execution_count": 1,
   "metadata": {},
   "outputs": [],
   "source": [
    "#-[1]. Load data from CSV and put all in a single dataframe 'FullSet'\n",
    "\n",
    "import numpy  as np\n",
    "import pandas as pd\n",
    "from matplotlib import pyplot as plt\n",
    "import sys\n",
    "sys.path.append('../../MyUtils/')\n",
    "import MyUtils as my\n",
    "seed = 1234 #<- random generator seed (comment to get randomness)\n",
    "\n",
    "#-[2]. Load data from CSV and put all in a single dataframe 'FullSet'\n",
    "\n",
    "FullSet_0 = pd.read_csv('../../Datasets/1000ceros.csv', header=None)\n",
    "FullSet_1 = pd.read_csv('../../Datasets/1000unos.csv',  header=None)\n",
    "FullSet = my.join_features_labels(FullSet_0,FullSet_1)\n",
    "\n",
    "#-[3]. Convert the 'FullSet' of pixels into the set 'X_full' of features and get the set 'Y_full' of labels\n",
    "\n",
    "theta = 0.5\n",
    "X_full = my.mnist_features( FullSet.drop('label', axis=1), theta=theta )\n",
    "Y_full = FullSet[['label']]\n",
    "\n",
    "#-[4]. Split X_full into TRAIN and TEST in a single Stratified split\n",
    "\n",
    "valid_size = 0.2\n",
    "X_train, Y_train, X_valid, Y_valid = \\\n",
    "   my.single_stratified_split( X_full,Y_full, test_size=valid_size, random_state=seed)\n",
    "\n",
    "#-[5]. Select the features and fit a scaler to [0,1]\n",
    "\n",
    "from sklearn.preprocessing import MinMaxScaler\n",
    "\n",
    "scaler = MinMaxScaler()\n",
    "\n",
    "X = scaler.fit_transform(X_train)\n",
    "Y = Y_train.values.ravel()   \n",
    "\n",
    "#---> X and Y are now numpy arrays ready to train a machine !!"
   ]
  },
  {
   "cell_type": "markdown",
   "metadata": {},
   "source": [
    "## Combinación por *random forest*\n",
    "\n",
    "A diferencia de bagging, ahora no es necesiario especificar un clasificador base, porque se sobreentiende que es un DT. <br>\n",
    "Podemos truncar el DT base por su profundidad o por su número de hojas.\n",
    "\n",
    "Más en [*RandomForestClassifier*, de Scikit-Learn](https://scikit-learn.org/stable/modules/generated/sklearn.ensemble.RandomForestClassifier.html#sklearn.ensemble.RandomForestClassifier)\n"
   ]
  },
  {
   "cell_type": "markdown",
   "metadata": {},
   "source": [
    "#### Entrenar"
   ]
  },
  {
   "cell_type": "code",
   "execution_count": 2,
   "metadata": {},
   "outputs": [
    {
     "data": {
      "text/plain": [
       "RandomForestClassifier(max_depth=1)"
      ]
     },
     "execution_count": 2,
     "metadata": {},
     "output_type": "execute_result"
    }
   ],
   "source": [
    "from sklearn.ensemble import RandomForestClassifier\n",
    "\n",
    "n_estimators = 100\n",
    "max_leaf_nodes = 16\n",
    "max_depth = 1\n",
    "\n",
    "RF_clf = RandomForestClassifier(n_estimators=n_estimators,\n",
    "                                max_depth=max_depth)\n",
    "                                #max_leaf_nodes=max_leaf_nodes)\n",
    "\n",
    "RF_clf.fit(X, Y)"
   ]
  },
  {
   "cell_type": "markdown",
   "metadata": {},
   "source": [
    "#### Testear"
   ]
  },
  {
   "cell_type": "code",
   "execution_count": 3,
   "metadata": {},
   "outputs": [
    {
     "name": "stdout",
     "output_type": "stream",
     "text": [
      "accuracy =  0.905\n"
     ]
    }
   ],
   "source": [
    "# --- TEST -----------------------------------------------\n",
    "from sklearn.metrics import accuracy_score\n",
    "\n",
    "tag_pred = RF_clf.predict(scaler.transform(X_valid))\n",
    "accuracy = accuracy_score(Y_valid, tag_pred)\n",
    "\n",
    "print(\"accuracy = \",accuracy)"
   ]
  },
  {
   "cell_type": "markdown",
   "metadata": {},
   "source": [
    "#### Mostrar la importancia de cada característica"
   ]
  },
  {
   "cell_type": "code",
   "execution_count": 4,
   "metadata": {},
   "outputs": [
    {
     "name": "stdout",
     "output_type": "stream",
     "text": [
      "feature 0 -> imporance = 0.27\n",
      "feature 1 -> imporance = 0.07\n",
      "feature 2 -> imporance = 0.05\n",
      "feature 3 -> imporance = 0.05\n",
      "feature 4 -> imporance = 0.10\n",
      "feature 5 -> imporance = 0.00\n",
      "feature 6 -> imporance = 0.00\n",
      "feature 7 -> imporance = 0.01\n",
      "feature 8 -> imporance = 0.19\n",
      "feature 9 -> imporance = 0.26\n"
     ]
    },
    {
     "data": {
      "image/png": "[encoded data removed]",
      "text/plain": [
       "<Figure size 720x720 with 1 Axes>"
      ]
     },
     "metadata": {
      "needs_background": "light"
     },
     "output_type": "display_data"
    }
   ],
   "source": [
    "plt.rcParams['figure.figsize'] = [10,10]\n",
    "\n",
    "num_of_features = X.shape[1]\n",
    "\n",
    "for i in range(num_of_features):\n",
    "    score = RF_clf.feature_importances_[i]\n",
    "    strResult = \"feature %d -> imporance = %2.2f\" %(i,score)\n",
    "    print(strResult)\n",
    "    \n",
    "plt.stem(RF_clf.feature_importances_)\n",
    "\n",
    "for i in range(num_of_features):\n",
    "    strImportance = \"%d: %2.2f\" %(i,RF_clf.feature_importances_[i])\n",
    "    plt.text(i+0.4, RF_clf.feature_importances_[i], strImportance, horizontalalignment='center')\n",
    "\n",
    "plt.axis('off')\n",
    "plt.xlabel('Feature')\n",
    "plt.ylabel('Importance')\n",
    "strTitle = 'Random Forest of %d DT with max_depth = %d. Accuracy = %1.3f' %(n_estimators, max_depth, accuracy)\n",
    "#strTitle = 'Random Forest of %d DT with max_leaf_nodes = %d. Accuracy = %1.3f' %(n_estimators, max_leaf_nodes, accuracy)\n",
    "plt.title(strTitle)\n",
    "plt.show()"
   ]
  }
 ],
 "metadata": {
  "kernelspec": {
   "display_name": "Python 3",
   "language": "python",
   "name": "python3"
  },
  "language_info": {
   "codemirror_mode": {
    "name": "ipython",
    "version": 3
   },
   "file_extension": ".py",
   "mimetype": "text/x-python",
   "name": "python",
   "nbconvert_exporter": "python",
   "pygments_lexer": "ipython3",
   "version": "3.7.9"
  }
 },
 "nbformat": 4,
 "nbformat_minor": 4
}
