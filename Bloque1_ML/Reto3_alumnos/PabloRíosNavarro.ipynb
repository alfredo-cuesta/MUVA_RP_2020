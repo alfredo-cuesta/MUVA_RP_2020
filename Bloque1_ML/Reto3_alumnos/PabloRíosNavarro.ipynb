{
 "cells": [
  {
   "cell_type": "markdown",
   "metadata": {},
   "source": [
    "# Reto 3: El problema final\n",
    "\n",
    "Este reto consiste en predecir si una imagen contiene o no signos de retinopatía diabética (DR).\n",
    "Para ello se proporciona un conjunto de datos que contiene características extraídas de imágenes.\n",
    "Las características extraídas son:\n",
    "+ [0] Evaluación de la calidad de la imagen , donde 0 = mala calidad 1 = calidad suficiente.\n",
    "+ [1] El resultado binario de la evaluación previa, donde 1 indica una anormalidad retiniana severa y 0 su falta.\n",
    "+ [2-7] Los resultados de la detección de microaneurismas (MA). Cada valor de característica representa el número de MAs encontrados en los niveles de confianza alfa = 0.5, ... , 1, respectivamente.\n",
    "+ [8-15] contienen la misma información que [2-7] para los exudados. <br>\n",
    "Sin embargo, ya que los exudados están representados por un conjunto de puntos en lugar del número de\n",
    "píxeles de las lesiones, estas características se normalizan dividiendo los número de lesiones por  el diámetro de la ROI para compensar las diferentes tamaños de las imágenes.\n",
    "+ [16] La distancia euclidiana del centro dela mácula y el centro del disco óptico para proporcionar información importante con respecto a la condición del paciente. Esta característica también se normaliza con el diámetro de la ROI\n",
    "+ [17] El diámetro del disco óptico.\n",
    "+ [18] El resultado binario de la clasificación basada en AM/FM.\n",
    "+ [19] Etiqueta de clase. 1 = contiene signos de DR\n",
    "\n",
    "El conjunto de datos, *retinopatia_reto3.csv*, consiste en 592 muestras de imágenes; cada uno de ellos representado por 19 características.\n",
    "\n",
    "Para evaluar las propuestas se utilizará un conjunto de datos que se mantendrá oculto hasta después de la entrega\n",
    "\n",
    "### Requisitos\n",
    "+ **Se debe utilizar algún tipo de reducción de la dimensión o aprendizaje de variedades**\n",
    "+ A continuación se debe entrenar un clasificador o combinación de clasificadores con las características transformadas según el requisito anterior.\n",
    "+ Se debe entregar un cuaderno Jupyter con el nombre de los participantes.<br>\n",
    "  *Por ejemplo*:   **Cuesta_Hinton.ipynb**\n",
    "+ El cuaderno entregado debe seguir la estructura y reglas de este cuaderno\n",
    "\n",
    "### Competición\n",
    "+ Todos los cuadernos entregados se subirán al repo de GitHub y se ejecutarán en Binder, donde ya estará en conjunto de test que estaba oculto.\n",
    "+ El resultado que se obtenga será la puntuación del reto.\n",
    "+ **Importante** Es muy fácil asegurarte de que tu código funciona:\n",
    "    1. Agrupa todo tu código en una única celda\n",
    "    2. Copialo en el cuaderno del reto que hay en Binder\n",
    "    3. Ejecuta el cuaderno \n",
    "    \n",
    "### Plazo: lunes 16 de nov. a las 6 am.\n",
    "Es decir, incluye toda la noche del domingo 15 de nov.\n",
    " \n",
    "> \"The final problem\", A. C. Doyle (Strand Magazine, diciembre 1983), \n",
    "es el relato corto en el que Sherlock Holmes se enfrenta al Prof. Moriarty en las cataratas Reichenbach.\n",
    "\n",
    "---\n",
    "    [ES] Código de Alfredo Cuesta Infante para 'Reconocimiento de Patrones'\n",
    "       @ Master Universitario en Visión Artificial, 2020, URJC (España)\n",
    "    [EN] Code by Alfredo Cuesta-Infante for 'Pattern Recognition'\n",
    "       @ Master of Computer Vision, 2020, URJC (Spain)\n",
    "\n",
    "    alfredo.cuesta@urjc.es"
   ]
  },
  {
   "cell_type": "code",
   "execution_count": 1,
   "metadata": {},
   "outputs": [],
   "source": [
    "# NO TOCAR ESTA CELDA\n",
    "# Conjunto distribuido para el reto\n",
    "\n",
    "Challange_filename = '../../Datasets/retinopatia_reto3.csv'"
   ]
  },
  {
   "cell_type": "code",
   "execution_count": 2,
   "metadata": {},
   "outputs": [],
   "source": [
    "# NO TOCAR ESTA CELDA\n",
    "# El conjunto de test cambiará una vez se cierre la entrega\n",
    "# Ahora mismo es el mismo conjunto que el de entrenamiento\n",
    "\n",
    "Test_filename = '../../Datasets/retinopatia_test.csv' #<-- este nombre cambiará después del plazo de entrega"
   ]
  },
  {
   "cell_type": "code",
   "execution_count": 3,
   "metadata": {},
   "outputs": [],
   "source": [
    "# NO TOCAR ESTA CELDA\n",
    "\n",
    "#-[1]. Load data from CSV and put all in a single dataframe 'FullSet'\n",
    "\n",
    "import numpy  as np\n",
    "import pandas as pd\n",
    "from matplotlib import pyplot as plt\n",
    "import sys\n",
    "sys.path.append('../../MyUtils/')\n",
    "import MyUtils as my\n",
    "seed = 1234 #<- random generator seed (comment to get randomness)\n",
    "\n",
    "#-[2]. Load data from CSV and put all in a single dataframe 'FullSet'\n",
    "\n",
    "FullSet = pd.read_csv(Challange_filename, header=0)\n",
    "FullX = FullSet.iloc[:,:-1]\n",
    "FullY = FullSet.iloc[:,-1]"
   ]
  },
  {
   "cell_type": "markdown",
   "metadata": {},
   "source": [
    "<table style=\"width:100%;\"> \n",
    " <tr style='background:lime'>\n",
    "  <td style=\"text-align:left\">\n",
    "      <h2>Tu código debe empezar a partir de aquí y puede tener tantas celdas como quieras</h2>\n",
    "      <p> Si quieres, puedes borrar (o convertir en RawNBConvert) las celdas de ejemplo\n",
    "      <h3>Importante:</h3>\n",
    "      <p>Tu código debe producir las siguientes variables: </p>\n",
    "      <p> $\\quad \\bullet$ <b>clf:</b> el clasificador final con el que se realizará el test<br>\n",
    "       $\\quad \\bullet$ <b>X_test:</b> el conjunto de test listo para ser usado por el método <b>predict</b><br>\n",
    "       $\\quad \\bullet$ <b>Y_test:</b> es el vector de etiquetas del conjunto de X_test listo para ser usado por el método <b>confusion_matrix</b>\n",
    "      </p>\n",
    "  </td>\n",
    " </tr>\n",
    "</table>"
   ]
  },
  {
   "cell_type": "code",
   "execution_count": 4,
   "metadata": {},
   "outputs": [],
   "source": [
    "nombres = [\"Pablo Rios\"]"
   ]
  },
  {
   "cell_type": "markdown",
   "metadata": {},
   "source": [
    "#### *Separar el conjunto de test y validación*"
   ]
  },
  {
   "cell_type": "code",
   "execution_count": 5,
   "metadata": {},
   "outputs": [],
   "source": [
    "valid_size = 0.2\n",
    "X_train, y_train, X_valid, y_valid = my.single_stratified_split(FullX, FullY, test_size=valid_size, random_state=seed)"
   ]
  },
  {
   "cell_type": "markdown",
   "metadata": {},
   "source": [
    "#### *Preprocesado*"
   ]
  },
  {
   "cell_type": "code",
   "execution_count": 6,
   "metadata": {},
   "outputs": [],
   "source": [
    "from sklearn.preprocessing import MinMaxScaler\n",
    "\n",
    "scaler = MinMaxScaler()\n",
    "\n",
    "X_train = scaler.fit_transform(X_train)\n",
    "y_train = y_train.values.ravel()"
   ]
  },
  {
   "cell_type": "markdown",
   "metadata": {},
   "source": [
    "#### *Reducción de dimensiones PCA*"
   ]
  },
  {
   "cell_type": "code",
   "execution_count": 7,
   "metadata": {},
   "outputs": [],
   "source": [
    "from sklearn.decomposition import PCA\n",
    "\n",
    "n_components = 10\n",
    "if n_components <= X_train.shape[1]:\n",
    "    pca = PCA(n_components = n_components)\n",
    "    pca.fit(X_train)\n",
    "    X_proy = pca.transform(X_train)\n",
    "else:\n",
    "    print(\"ERROR!\")"
   ]
  },
  {
   "cell_type": "markdown",
   "metadata": {},
   "source": [
    "#### *FIT Votting*"
   ]
  },
  {
   "cell_type": "code",
   "execution_count": 8,
   "metadata": {},
   "outputs": [],
   "source": [
    "from sklearn.ensemble import VotingClassifier\n",
    "from sklearn.linear_model import LogisticRegression\n",
    "from sklearn.svm import SVC\n",
    "\n",
    "voting_system = 'soft'\n",
    "\n",
    "lin_clf = LogisticRegression()\n",
    "\n",
    "# He utilizado grid search para buscar los mejores hiperparámetros \n",
    "svm_clf = SVC(kernel='linear', degree = 1, C=10, gamma=0.01, random_state = seed, probability=True)\n",
    "\n",
    "voting_clf = VotingClassifier( estimators=[('lin', lin_clf),  ('svc', svm_clf) ], voting=voting_system)\n",
    "voting_clf.fit(X_proy,y_train);"
   ]
  },
  {
   "cell_type": "markdown",
   "metadata": {},
   "source": [
    "#### *Validación*\n",
    "+ Repetir preprocesado y reducción de dimensiones para validación"
   ]
  },
  {
   "cell_type": "code",
   "execution_count": 9,
   "metadata": {},
   "outputs": [],
   "source": [
    "X_validation = scaler.transform(X_valid)\n",
    "y_validation = y_valid.values.ravel()\n",
    "\n",
    "if n_components <= X_validation.shape[1]:\n",
    "    pca = PCA(n_components = n_components)\n",
    "    pca.fit(X_validation)\n",
    "    X_validation = pca.transform(X_validation)"
   ]
  },
  {
   "cell_type": "code",
   "execution_count": 10,
   "metadata": {},
   "outputs": [
    {
     "name": "stdout",
     "output_type": "stream",
     "text": [
      "Resultado del clasificador con validation = 71.73 %\n"
     ]
    }
   ],
   "source": [
    "print(f\"Resultado del clasificador con validation = {100*voting_clf.score(X_validation, y_validation):{0}.{4}} %\")"
   ]
  },
  {
   "cell_type": "code",
   "execution_count": 11,
   "metadata": {},
   "outputs": [],
   "source": [
    "clf = voting_clf"
   ]
  },
  {
   "cell_type": "code",
   "execution_count": 12,
   "metadata": {},
   "outputs": [
    {
     "data": {
      "text/plain": [
       "'RESULTADO: X_test es el dataframe para utilizar en >>> Y_pred = clf.predict() \\n   RESULTADO: Y_test es el array con las etiquetas para utilizar en >>> confusion_matrix(Y_test,Y_pred)\\n'"
      ]
     },
     "execution_count": 12,
     "metadata": {},
     "output_type": "execute_result"
    }
   ],
   "source": [
    "#-- ejemplo de test --\n",
    "\n",
    "FullSet = pd.read_csv(Test_filename, header=0)\n",
    "TestX_ = FullSet.iloc[:,:-1]\n",
    "TestY_ = FullSet.iloc[:,-1]\n",
    "X_test = scaler.transform(TestX_) \n",
    "Y_test = TestY_.values.ravel() \n",
    "\n",
    "if n_components <= X_test.shape[1]:\n",
    "    pca = PCA(n_components = n_components)\n",
    "    pca.fit(X_test)\n",
    "    X_test = pca.transform(X_test)\n",
    "\n",
    "'''RESULTADO: X_test es el dataframe para utilizar en >>> Y_pred = clf.predict() \n",
    "   RESULTADO: Y_test es el array con las etiquetas para utilizar en >>> confusion_matrix(Y_test,Y_pred)\n",
    "'''"
   ]
  },
  {
   "cell_type": "markdown",
   "metadata": {},
   "source": [
    "<table style=\"width:100%;\"> \n",
    " <tr style='background:pink'>\n",
    "  <td style=\"text-align:left\">\n",
    "      <h2>A partir de aquí ya no se pueden modificar las celdas</h2>\n",
    "          <h3>Comprueba que:</h3>\n",
    "          <p> $\\quad \\bullet$ tu clasificador está almacenado en la variable <b>clf</b><br>\n",
    "              $\\quad \\bullet$ tienes el conjunto de test correctamente almacenado en la variable <b>X_test</b><br>\n",
    "              $\\quad \\bullet$ tienes las etiquetas del conjunto de test correctamente almacenadas en la variable <b>Y_test</b><br>\n",
    "          </p>\n",
    "      \n",
    "  </td>\n",
    " </tr>\n",
    "</table>"
   ]
  },
  {
   "cell_type": "markdown",
   "metadata": {},
   "source": [
    "## Test"
   ]
  },
  {
   "cell_type": "code",
   "execution_count": 13,
   "metadata": {},
   "outputs": [
    {
     "name": "stdout",
     "output_type": "stream",
     "text": [
      "['Pablo Rios'] \n",
      "\n",
      "Confusion matrix:\n",
      "\n",
      "[[307 139]\n",
      " [172 333]] \n",
      "\n",
      "Outcome:\n",
      "\n",
      "  :) HIT  = 640, (67.30%)\n",
      "  :( FAIL = 311, (32.70%)\n"
     ]
    }
   ],
   "source": [
    "# NO TOCAR ESTA CELDA\n",
    "\n",
    "from sklearn.metrics import confusion_matrix\n",
    "\n",
    "Y_hat = clf.predict(X_test)\n",
    "conf_mat = confusion_matrix(Y_test , Y_hat)\n",
    "N_success  = np.trace(conf_mat)\n",
    "N_fails = Y_test.shape[0]-N_success\n",
    "#-------------------------------\n",
    "print (nombres,\"\\n\")\n",
    "print(\"Confusion matrix:\\n\")\n",
    "print(conf_mat,\"\\n\")\n",
    "print(\"Outcome:\\n\")\n",
    "strlog = \"  :) HIT  = %d, (%0.2f%%)\"%(N_success, 100*N_success/(N_success+N_fails))\n",
    "print(strlog)\n",
    "strlog = \"  :( FAIL = %d, (%0.2f%%)\"%(N_fails, 100*N_fails/(N_success+N_fails))\n",
    "print(strlog)"
   ]
  }
 ],
 "metadata": {
  "kernelspec": {
   "display_name": "Python 3",
   "language": "python",
   "name": "python3"
  },
  "language_info": {
   "codemirror_mode": {
    "name": "ipython",
    "version": 3
   },
   "file_extension": ".py",
   "mimetype": "text/x-python",
   "name": "python",
   "nbconvert_exporter": "python",
   "pygments_lexer": "ipython3",
   "version": "3.8.3"
  }
 },
 "nbformat": 4,
 "nbformat_minor": 4
}
