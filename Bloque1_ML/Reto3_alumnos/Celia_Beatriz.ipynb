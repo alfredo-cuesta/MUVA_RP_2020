{
 "cells": [
  {
   "cell_type": "markdown",
   "metadata": {},
   "source": [
    "# Reto 3: El problema final\n",
    "\n",
    "Este reto consiste en predecir si una imagen contiene o no signos de retinopatía diabética (DR).\n",
    "Para ello se proporciona un conjunto de datos que contiene características extraídas de imágenes.\n",
    "Las características extraídas son:\n",
    "+ [0] Evaluación de la calidad de la imagen , donde 0 = mala calidad 1 = calidad suficiente.\n",
    "+ [1] El resultado binario de la evaluación previa, donde 1 indica una anormalidad retiniana severa y 0 su falta.\n",
    "+ [2-7] Los resultados de la detección de microaneurismas (MA). Cada valor de característica representa el número de MAs encontrados en los niveles de confianza alfa = 0.5, ... , 1, respectivamente.\n",
    "+ [8-15] contienen la misma información que [2-7] para los exudados. <br>\n",
    "Sin embargo, ya que los exudados están representados por un conjunto de puntos en lugar del número de\n",
    "píxeles de las lesiones, estas características se normalizan dividiendo los número de lesiones por  el diámetro de la ROI para compensar las diferentes tamaños de las imágenes.\n",
    "+ [16] La distancia euclidiana del centro dela mácula y el centro del disco óptico para proporcionar información importante con respecto a la condición del paciente. Esta característica también se normaliza con el diámetro de la ROI\n",
    "+ [17] El diámetro del disco óptico.\n",
    "+ [18] El resultado binario de la clasificación basada en AM/FM.\n",
    "+ [19] Etiqueta de clase. 1 = contiene signos de DR\n",
    "\n",
    "El conjunto de datos, *retinopatia_reto3.csv*, consiste en 592 muestras de imágenes; cada uno de ellos representado por 19 características.\n",
    "\n",
    "Para evaluar las propuestas se utilizará un conjunto de datos que se mantendrá oculto hasta después de la entrega\n",
    "\n",
    "### Requisitos\n",
    "+ **Se debe utilizar algún tipo de reducción de la dimensión o aprendizaje de variedades**\n",
    "+ A continuación se debe entrenar un clasificador o combinación de clasificadores con las características transformadas según el requisito anterior.\n",
    "+ Se debe entregar un cuaderno Jupyter con el nombre de los participantes.<br>\n",
    "  *Por ejemplo*:   **Cuesta_Hinton.ipynb**\n",
    "+ El cuaderno entregado debe seguir la estructura y reglas de este cuaderno\n",
    "\n",
    "### Competición\n",
    "+ Todos los cuadernos entregados se subirán al repo de GitHub y se ejecutarán en Binder, donde ya estará en conjunto de test que estaba oculto.\n",
    "+ El resultado que se obtenga será la puntuación del reto.\n",
    "+ **Importante** Es muy fácil asegurarte de que tu código funciona:\n",
    "    1. Agrupa todo tu código en una única celda\n",
    "    2. Copialo en el cuaderno del reto que hay en Binder\n",
    "    3. Ejecuta el cuaderno \n",
    "    \n",
    "### Plazo: lunes 16 de nov. a las 6 am.\n",
    "Es decir, incluye toda la noche del domingo 15 de nov.\n",
    " \n",
    "> \"The final problem\", A. C. Doyle (Strand Magazine, diciembre 1983), \n",
    "es el relato corto en el que Sherlock Holmes se enfrenta al Prof. Moriarty en las cataratas Reichenbach.\n",
    "\n",
    "---\n",
    "    [ES] Código de Alfredo Cuesta Infante para 'Reconocimiento de Patrones'\n",
    "       @ Master Universitario en Visión Artificial, 2020, URJC (España)\n",
    "    [EN] Code by Alfredo Cuesta-Infante for 'Pattern Recognition'\n",
    "       @ Master of Computer Vision, 2020, URJC (Spain)\n",
    "\n",
    "    alfredo.cuesta@urjc.es"
   ]
  },
  {
   "cell_type": "code",
   "execution_count": 1,
   "metadata": {},
   "outputs": [],
   "source": [
    "# NO TOCAR ESTA CELDA\n",
    "# Conjunto distribuido para el reto\n",
    "\n",
    "Challange_filename = '../../Datasets/retinopatia_reto3.csv'"
   ]
  },
  {
   "cell_type": "code",
   "execution_count": 2,
   "metadata": {},
   "outputs": [],
   "source": [
    "# NO TOCAR ESTA CELDA\n",
    "# El conjunto de test cambiará una vez se cierre la entrega\n",
    "# Ahora mismo es el mismo conjunto que el de entrenamiento\n",
    "\n",
    "Test_filename = '../../Datasets/retinopatia_test.csv' #<-- este nombre cambiará después del plazo de entrega"
   ]
  },
  {
   "cell_type": "code",
   "execution_count": 3,
   "metadata": {},
   "outputs": [],
   "source": [
    "# NO TOCAR ESTA CELDA\n",
    "\n",
    "#-[1]. Load data from CSV and put all in a single dataframe 'FullSet'\n",
    "\n",
    "import numpy  as np\n",
    "import pandas as pd\n",
    "from matplotlib import pyplot as plt\n",
    "import sys\n",
    "sys.path.append('../../MyUtils/')\n",
    "import MyUtils as my\n",
    "seed = 1234 #<- random generator seed (comment to get randomness)\n",
    "\n",
    "#-[2]. Load data from CSV and put all in a single dataframe 'FullSet'\n",
    "\n",
    "FullSet = pd.read_csv(Challange_filename, header=0)\n",
    "FullX = FullSet.iloc[:,:-1]\n",
    "FullY = FullSet.iloc[:,-1]"
   ]
  },
  {
   "cell_type": "markdown",
   "metadata": {},
   "source": [
    "<table style=\"width:100%;\"> \n",
    " <tr style='background:lime'>\n",
    "  <td style=\"text-align:left\">\n",
    "      <h2>Tu código debe empezar a partir de aquí y puede tener tantas celdas como quieras</h2>\n",
    "      <p> Si quieres, puedes borrar (o convertir en RawNBConvert) las celdas de ejemplo\n",
    "      <h3>Importante:</h3>\n",
    "      <p>Tu código debe producir las siguientes variables: </p>\n",
    "      <p> $\\quad \\bullet$ <b>clf:</b> el clasificador final con el que se realizará el test<br>\n",
    "       $\\quad \\bullet$ <b>X_test:</b> el conjunto de test listo para ser usado por el método <b>predict</b><br>\n",
    "       $\\quad \\bullet$ <b>Y_test:</b> es el vector de etiquetas del conjunto de X_test listo para ser usado por el método <b>confusion_matrix</b>\n",
    "      </p>\n",
    "  </td>\n",
    " </tr>\n",
    "</table>"
   ]
  },
  {
   "cell_type": "code",
   "execution_count": 4,
   "metadata": {},
   "outputs": [],
   "source": [
    "nombres = [\"Celia de Santos\", \"Beatriz Pacheco\"]"
   ]
  },
  {
   "cell_type": "code",
   "execution_count": 5,
   "metadata": {},
   "outputs": [],
   "source": [
    "#-- ejemplo de preprocesado --\n",
    "\n",
    "from sklearn.preprocessing import MinMaxScaler\n",
    "scaler = MinMaxScaler(feature_range=(0, 100))\n",
    "X = scaler.fit_transform(FullX)\n",
    "Y = FullY.values.ravel() "
   ]
  },
  {
   "cell_type": "markdown",
   "metadata": {},
   "source": [
    "### Reducción de dimensión con PCA"
   ]
  },
  {
   "cell_type": "code",
   "execution_count": 6,
   "metadata": {},
   "outputs": [
    {
     "name": "stdout",
     "output_type": "stream",
     "text": [
      "5\n"
     ]
    }
   ],
   "source": [
    "from sklearn.decomposition import PCA\n",
    "\n",
    "n_components = 5 #-> 5 ppal components, 100% / 3 pc, 95.7% (0.8)\n",
    "if n_components <= X.shape[1]:\n",
    "    pca = PCA(n_components = n_components)\n",
    "    pca.fit(X) #<- entrenamiento\n",
    "    X_proy = pca.transform(X) #<- proyección, num_ejemplos x num_of_pc\n",
    "else:\n",
    "    print(\"ERROR: the number of princial components has to be less or equal than data dimension !\")\n",
    "    \n",
    "num_of_pc = len(pca.singular_values_) #<- number of ppal values taken\n",
    "comb_caract = pca.components_.T #<- matrix size: num_caract x num_of_pc\n",
    "print(num_of_pc)"
   ]
  },
  {
   "cell_type": "markdown",
   "metadata": {},
   "source": [
    "### Reducción de dimensión con Kernel PCA"
   ]
  },
  {
   "cell_type": "raw",
   "metadata": {},
   "source": [
    "from sklearn.decomposition import KernelPCA\n",
    "\n",
    "n_components = 5 #<- now, there is NO limit in the number of \"components\"\n",
    "\n",
    "kernel = \"rbf\" # options are: \"linear\", \"poly\", \"rbf\", \"sigmoid\"\n",
    "kernel_parameter = 1\n",
    "\n",
    "rbf_pca = KernelPCA(n_components = n_components,\n",
    "                    kernel=kernel, gamma=kernel_parameter, fit_inverse_transform=True)\n",
    "\n",
    "X_proy = rbf_pca.fit_transform(X)\n",
    "X_proy.shape"
   ]
  },
  {
   "cell_type": "markdown",
   "metadata": {},
   "source": [
    "### Reducción de dimensión con LLE"
   ]
  },
  {
   "cell_type": "raw",
   "metadata": {},
   "source": [
    "from sklearn.manifold import LocallyLinearEmbedding\n",
    "\n",
    "n_components = 5\n",
    "n_neighbors  = 50\n",
    "method = \"standard\"   # options are: \"standard\", \"hessian\", \"modified\" or \"ltsa\"\n",
    "neighbors_algorithm = \"auto\" # options are : \"auto\", \"brute\", \"kd_tree\", \"ball_tree\"\n",
    "\n",
    "lle = LocallyLinearEmbedding(n_components = n_components, n_neighbors=n_neighbors,\n",
    "                             method = method, neighbors_algorithm = neighbors_algorithm)\n",
    "X_proy = lle.fit_transform(X)\n",
    "\n",
    "# <- 62%"
   ]
  },
  {
   "cell_type": "markdown",
   "metadata": {},
   "source": [
    "### Reducción de dimensión con LDA"
   ]
  },
  {
   "cell_type": "raw",
   "metadata": {},
   "source": [
    "from sklearn.discriminant_analysis import LinearDiscriminantAnalysis\n",
    "\n",
    "n_components = 1 #<- since there are only 2 classes, this is the only option\n",
    "lda = LinearDiscriminantAnalysis(n_components=n_components)\n",
    "lda.fit(X,Y)\n",
    "X_proy = lda.transform(X)\n",
    "X_proy.shape\n",
    "\n",
    "# <- 73%"
   ]
  },
  {
   "cell_type": "code",
   "execution_count": 7,
   "metadata": {},
   "outputs": [
    {
     "data": {
      "text/plain": [
       "'RESULTADO: clf es el objeto con el clasificador'"
      ]
     },
     "execution_count": 7,
     "metadata": {},
     "output_type": "execute_result"
    }
   ],
   "source": [
    "#-- ejemplo de entrenamiento --\n",
    "import sklearn.naive_bayes as NBC\n",
    "\n",
    "def choose(option):\n",
    "    \n",
    "    if option =='Gaussian':\n",
    "        from sklearn.mixture import GaussianMixture\n",
    "        clf = NBC.GaussianNB()\n",
    "        \n",
    "    elif option == 'Multinomial':\n",
    "        clf = NBC.MultinomialNB()\n",
    "        \n",
    "    elif option == 'Bernoulli':\n",
    "        clf = NBC.BernoulliNB()\n",
    "        \n",
    "    elif option == 'SVM':\n",
    "        from sklearn.svm import SVC\n",
    "        clf = SVC(kernel='rbf', C=1, gamma=1, random_state = seed)\n",
    "        \n",
    "    elif option == 'QDA':\n",
    "        from sklearn.discriminant_analysis import QuadraticDiscriminantAnalysis\n",
    "        clf = QuadraticDiscriminantAnalysis(store_covariance=True)\n",
    "        \n",
    "    elif option == 'LDA':\n",
    "        clf = LinearDiscriminantAnalysis(store_covariance=True)\n",
    "        from sklearn.discriminant_analysis import LinearDiscriminantAnalysis\n",
    "        \n",
    "    elif option == 'GMM':\n",
    "        N_components = 2\n",
    "        cov_type = 'full'   #<-- choices are:  ‘full’ , ‘tied’ , ‘diag’ , ‘spherical’\n",
    "        init_params='random'#<-- every time begins at a different point\n",
    "        max_iter=1000       #<-- number of iterations before stop (if not convergence)\n",
    "\n",
    "        clf = GaussianMixture(n_components=N_components, \\\n",
    "                        covariance_type=cov_type, init_params=init_params, max_iter=max_iter)\n",
    "        \n",
    "    elif option == 'voting':\n",
    "        from sklearn.ensemble import VotingClassifier\n",
    "        from sklearn.linear_model import LogisticRegression\n",
    "        from sklearn.tree import DecisionTreeClassifier\n",
    "        voting_system = 'soft' #<-- choices are 'soft' , 'hard'\n",
    "        lin_clf = LogisticRegression()\n",
    "        svm_clf = SVC(kernel='poly', degree=2, probability=True)\n",
    "        tree_clf = DecisionTreeClassifier(max_depth=2)\n",
    "        nbc_clf = NBC.GaussianNB()\n",
    "\n",
    "        clf = VotingClassifier(estimators=[('lin', lin_clf),  ('svc', svm_clf), ('tree', tree_clf), ('nbc',nbc_clf)],voting=voting_system)\n",
    "    \n",
    "    elif option == 'RF':\n",
    "        from sklearn.ensemble import RandomForestClassifier\n",
    "        n_estimators = 100\n",
    "        max_leaf_nodes = 16\n",
    "        max_depth = 15\n",
    "\n",
    "        clf = RandomForestClassifier(n_estimators=n_estimators,max_depth=max_depth)\n",
    "                                        #max_leaf_nodes=max_leaf_nodes)\n",
    "\n",
    "\n",
    "    return clf\n",
    " \n",
    "Type = 'SVM' #<- con rf también sale 100%\n",
    "clf = choose(Type)\n",
    "clf.fit( X_proy, Y )\n",
    "\n",
    "\n",
    "\n",
    "'''RESULTADO: clf es el objeto con el clasificador'''"
   ]
  },
  {
   "cell_type": "code",
   "execution_count": 8,
   "metadata": {},
   "outputs": [
    {
     "data": {
      "text/plain": [
       "'RESULTADO: X_test es el dataframe para utilizar en >>> Y_pred = clf.predict() \\n   RESULTADO: Y_test es el array con las etiquetas para utilizar en >>> confusion_matrix(Y_test,Y_pred)\\n'"
      ]
     },
     "execution_count": 8,
     "metadata": {},
     "output_type": "execute_result"
    }
   ],
   "source": [
    "#-- ejemplo de test --\n",
    "\n",
    "FullSet = pd.read_csv(Test_filename, header=0)\n",
    "TestX_ = FullSet.iloc[:,:-1]\n",
    "TestY_ = FullSet.iloc[:,-1]\n",
    "\n",
    "X_test_sinproy = scaler.transform(TestX_) \n",
    "X_test = pca.transform(X_test_sinproy) \n",
    "\n",
    "Y_test = TestY_.values.ravel() \n",
    "#-la evaluación se realiza en las celdas de abajo\n",
    "\n",
    "'''RESULTADO: X_test es el dataframe para utilizar en >>> Y_pred = clf.predict() \n",
    "   RESULTADO: Y_test es el array con las etiquetas para utilizar en >>> confusion_matrix(Y_test,Y_pred)\n",
    "'''"
   ]
  },
  {
   "cell_type": "markdown",
   "metadata": {},
   "source": [
    "<table style=\"width:100%;\"> \n",
    " <tr style='background:pink'>\n",
    "  <td style=\"text-align:left\">\n",
    "      <h2>A partir de aquí ya no se pueden modificar las celdas</h2>\n",
    "          <h3>Comprueba que:</h3>\n",
    "          <p> $\\quad \\bullet$ tu clasificador está almacenado en la variable <b>clf</b><br>\n",
    "              $\\quad \\bullet$ tienes el conjunto de test correctamente almacenado en la variable <b>X_test</b><br>\n",
    "              $\\quad \\bullet$ tienes las etiquetas del conjunto de test correctamente almacenadas en la variable <b>Y_test</b><br>\n",
    "          </p>\n",
    "      \n",
    "  </td>\n",
    " </tr>\n",
    "</table>"
   ]
  },
  {
   "cell_type": "markdown",
   "metadata": {},
   "source": [
    "## Test"
   ]
  },
  {
   "cell_type": "code",
   "execution_count": 9,
   "metadata": {},
   "outputs": [
    {
     "name": "stdout",
     "output_type": "stream",
     "text": [
      "['Celia de Santos', 'Beatriz Pacheco'] \n",
      "\n",
      "Confusion matrix:\n",
      "\n",
      "[[446   0]\n",
      " [  0 505]] \n",
      "\n",
      "Outcome:\n",
      "\n",
      "  :) HIT  = 951, (100.00%)\n",
      "  :( FAIL = 0, (0.00%)\n"
     ]
    }
   ],
   "source": [
    "# NO TOCAR ESTA CELDA\n",
    "\n",
    "from sklearn.metrics import confusion_matrix\n",
    "\n",
    "Y_hat = clf.predict(X_test)\n",
    "conf_mat = confusion_matrix(Y_test , Y_hat)\n",
    "N_success  = np.trace(conf_mat)\n",
    "N_fails = Y_test.shape[0]-N_success\n",
    "#-------------------------------\n",
    "print (nombres,\"\\n\")\n",
    "print(\"Confusion matrix:\\n\")\n",
    "print(conf_mat,\"\\n\")\n",
    "print(\"Outcome:\\n\")\n",
    "strlog = \"  :) HIT  = %d, (%0.2f%%)\"%(N_success, 100*N_success/(N_success+N_fails))\n",
    "print(strlog)\n",
    "strlog = \"  :( FAIL = %d, (%0.2f%%)\"%(N_fails, 100*N_fails/(N_success+N_fails))\n",
    "print(strlog)"
   ]
  },
  {
   "cell_type": "code",
   "execution_count": null,
   "metadata": {},
   "outputs": [],
   "source": []
  }
 ],
 "metadata": {
  "kernelspec": {
   "display_name": "Python 3",
   "language": "python",
   "name": "python3"
  },
  "language_info": {
   "codemirror_mode": {
    "name": "ipython",
    "version": 3
   },
   "file_extension": ".py",
   "mimetype": "text/x-python",
   "name": "python",
   "nbconvert_exporter": "python",
   "pygments_lexer": "ipython3",
   "version": "3.7.9"
  }
 },
 "nbformat": 4,
 "nbformat_minor": 4
}
