{
 "cells": [
  {
   "cell_type": "markdown",
   "metadata": {},
   "source": [
    "# Reto 3: El problema final\n",
    "\n",
    "Este reto consiste en predecir si una imagen contiene o no signos de retinopatía diabética (DR).\n",
    "Para ello se proporciona un conjunto de datos que contiene características extraídas de imágenes.\n",
    "Las características extraídas son:\n",
    "+ [0] Evaluación de la calidad de la imagen , donde 0 = mala calidad 1 = calidad suficiente.\n",
    "+ [1] El resultado binario de la evaluación previa, donde 1 indica una anormalidad retiniana severa y 0 su falta.\n",
    "+ [2-7] Los resultados de la detección de microaneurismas (MA). Cada valor de característica representa el número de MAs encontrados en los niveles de confianza alfa = 0.5, ... , 1, respectivamente.\n",
    "+ [8-15] contienen la misma información que [2-7] para los exudados. <br>\n",
    "Sin embargo, ya que los exudados están representados por un conjunto de puntos en lugar del número de\n",
    "píxeles de las lesiones, estas características se normalizan dividiendo los número de lesiones por  el diámetro de la ROI para compensar las diferentes tamaños de las imágenes.\n",
    "+ [16] La distancia euclidiana del centro dela mácula y el centro del disco óptico para proporcionar información importante con respecto a la condición del paciente. Esta característica también se normaliza con el diámetro de la ROI\n",
    "+ [17] El diámetro del disco óptico.\n",
    "+ [18] El resultado binario de la clasificación basada en AM/FM.\n",
    "+ [19] Etiqueta de clase. 1 = contiene signos de DR\n",
    "\n",
    "El conjunto de datos, *retinopatia_reto3.csv*, consiste en 592 muestras de imágenes; cada uno de ellos representado por 19 características.\n",
    "\n",
    "Para evaluar las propuestas se utilizará un conjunto de datos que se mantendrá oculto hasta después de la entrega\n",
    "\n",
    "### Requisitos\n",
    "+ **Se debe utilizar algún tipo de reducción de la dimensión o aprendizaje de variedades**\n",
    "+ A continuación se debe entrenar un clasificador o combinación de clasificadores con las características transformadas según el requisito anterior.\n",
    "+ Se debe entregar un cuaderno Jupyter con el nombre de los participantes.<br>\n",
    "  *Por ejemplo*:   **Cuesta_Hinton.ipynb**\n",
    "+ El cuaderno entregado debe seguir la estructura y reglas de este cuaderno\n",
    "\n",
    "### Competición\n",
    "+ Todos los cuadernos entregados se subirán al repo de GitHub y se ejecutarán en Binder, donde ya estará en conjunto de test que estaba oculto.\n",
    "+ El resultado que se obtenga será la puntuación del reto.\n",
    "+ **Importante** Es muy fácil asegurarte de que tu código funciona:\n",
    "    1. Agrupa todo tu código en una única celda\n",
    "    2. Copialo en el cuaderno del reto que hay en Binder\n",
    "    3. Ejecuta el cuaderno \n",
    "    \n",
    "### Plazo: lunes 16 de nov. a las 6 am.\n",
    "Es decir, incluye toda la noche del domingo 15 de nov.\n",
    " \n",
    "> \"The final problem\", A. C. Doyle (Strand Magazine, diciembre 1983), \n",
    "es el relato corto en el que Sherlock Holmes se enfrenta al Prof. Moriarty en las cataratas Reichenbach.\n",
    "\n",
    "---\n",
    "    [ES] Código de Alfredo Cuesta Infante para 'Reconocimiento de Patrones'\n",
    "       @ Master Universitario en Visión Artificial, 2020, URJC (España)\n",
    "    [EN] Code by Alfredo Cuesta-Infante for 'Pattern Recognition'\n",
    "       @ Master of Computer Vision, 2020, URJC (Spain)\n",
    "\n",
    "    alfredo.cuesta@urjc.es"
   ]
  },
  {
   "cell_type": "code",
   "execution_count": 1,
   "metadata": {},
   "outputs": [],
   "source": [
    "# NO TOCAR ESTA CELDA\n",
    "# Conjunto distribuido para el reto\n",
    "\n",
    "Challange_filename = '../../Datasets/retinopatia_reto3.csv'"
   ]
  },
  {
   "cell_type": "code",
   "execution_count": 2,
   "metadata": {},
   "outputs": [],
   "source": [
    "# NO TOCAR ESTA CELDA\n",
    "# El conjunto de test cambiará una vez se cierre la entrega\n",
    "# Ahora mismo es el mismo conjunto que el de entrenamiento\n",
    "\n",
    "Test_filename = '../../Datasets/retinopatia_test.csv' #<-- este nombre cambiará después del plazo de entrega"
   ]
  },
  {
   "cell_type": "code",
   "execution_count": 3,
   "metadata": {},
   "outputs": [],
   "source": [
    "# NO TOCAR ESTA CELDA\n",
    "\n",
    "#-[1]. Load data from CSV and put all in a single dataframe 'FullSet'\n",
    "\n",
    "import numpy  as np\n",
    "import pandas as pd\n",
    "from matplotlib import pyplot as plt\n",
    "import sys\n",
    "sys.path.append('../../MyUtils/')\n",
    "import MyUtils as my\n",
    "seed = 1234 #<- random generator seed (comment to get randomness)\n",
    "\n",
    "#-[2]. Load data from CSV and put all in a single dataframe 'FullSet'\n",
    "\n",
    "FullSet = pd.read_csv(Challange_filename, header=0)\n",
    "FullX = FullSet.iloc[:,:-1]\n",
    "FullY = FullSet.iloc[:,-1]"
   ]
  },
  {
   "cell_type": "markdown",
   "metadata": {},
   "source": [
    "<table style=\"width:100%;\"> \n",
    " <tr style='background:lime'>\n",
    "  <td style=\"text-align:left\">\n",
    "      <h2>Tu código debe empezar a partir de aquí y puede tener tantas celdas como quieras</h2>\n",
    "      <p> Si quieres, puedes borrar (o convertir en RawNBConvert) las celdas de ejemplo\n",
    "      <h3>Importante:</h3>\n",
    "      <p>Tu código debe producir las siguientes variables: </p>\n",
    "      <p> $\\quad \\bullet$ <b>clf:</b> el clasificador final con el que se realizará el test<br>\n",
    "       $\\quad \\bullet$ <b>X_test:</b> el conjunto de test listo para ser usado por el método <b>predict</b><br>\n",
    "       $\\quad \\bullet$ <b>Y_test:</b> es el vector de etiquetas del conjunto de X_test listo para ser usado por el método <b>confusion_matrix</b>\n",
    "      </p>\n",
    "  </td>\n",
    " </tr>\n",
    "</table>"
   ]
  },
  {
   "cell_type": "code",
   "execution_count": 4,
   "metadata": {},
   "outputs": [],
   "source": [
    "nombres = [\"Antonio Santo\", \"David Viar\"]"
   ]
  },
  {
   "cell_type": "code",
   "execution_count": 103,
   "metadata": {},
   "outputs": [
    {
     "name": "stdout",
     "output_type": "stream",
     "text": [
      "(760, 19)\n",
      "(191, 19)\n"
     ]
    },
    {
     "data": {
      "text/plain": [
       "'RESULTADO: clf es el objeto con el clasificador'"
      ]
     },
     "execution_count": 103,
     "metadata": {},
     "output_type": "execute_result"
    }
   ],
   "source": [
    "#-- preprocesado --\n",
    "\n",
    "from sklearn.preprocessing import MinMaxScaler\n",
    "from sklearn.preprocessing import StandardScaler\n",
    "valid_size = 0.2\n",
    "X_train, Y_train, X_valid, Y_valid =    my.single_stratified_split( FullX,FullY, test_size=valid_size, random_state=seed)\n",
    "\n",
    "\n",
    "scaler = MinMaxScaler()\n",
    "scaler = StandardScaler()\n",
    "X = scaler.fit_transform(X_train)\n",
    "Y = Y_train.values.ravel() \n",
    "\n",
    "\n",
    "X_validation = scaler.fit_transform(X_valid)\n",
    "Y_validation = Y_valid.values.ravel() \n",
    "\n",
    "print(X.shape)\n",
    "print(X_validation.shape)\n",
    "\n",
    "'''RESULTADO: clf es el objeto con el clasificador'''"
   ]
  },
  {
   "cell_type": "code",
   "execution_count": 104,
   "metadata": {},
   "outputs": [
    {
     "name": "stdout",
     "output_type": "stream",
     "text": [
      "(760, 1)\n"
     ]
    },
    {
     "data": {
      "text/plain": [
       "(191, 1)"
      ]
     },
     "execution_count": 104,
     "metadata": {},
     "output_type": "execute_result"
    }
   ],
   "source": [
    "from sklearn.discriminant_analysis import LinearDiscriminantAnalysis\n",
    "#REDUCCIÓN DE DIMENSIONALIDAD DEL TRAIN\n",
    "n_components = 1 #<- since there are only 2 classes, this is the only option\n",
    "lda = LinearDiscriminantAnalysis(n_components=n_components)\n",
    "lda.fit(X,Y)\n",
    "X_proy = lda.transform(X)\n",
    "print(X_proy.shape)\n",
    "#REDUCCIÓN DE DIMENSIONALIDAD DE LA VALIDACION\n",
    "lda.fit(X_validation,Y_validation)\n",
    "X_proy_validation = lda.transform(X_validation)\n",
    "X_proy_validation.shape"
   ]
  },
  {
   "cell_type": "code",
   "execution_count": 90,
   "metadata": {},
   "outputs": [
    {
     "data": {
      "text/plain": [
       "{'learning_rate': 0.001, 'n_estimators': 400}"
      ]
     },
     "execution_count": 90,
     "metadata": {},
     "output_type": "execute_result"
    }
   ],
   "source": [
    "from sklearn.ensemble import AdaBoostClassifier\n",
    "from sklearn.model_selection import GridSearchCV\n",
    "ada=AdaBoostClassifier()\n",
    "search_grid={'n_estimators':[1,10, 100, 200, 300, 400, 500, 600],'learning_rate':[.001,0.01,.1, .2, .3, .4]}\n",
    "search=GridSearchCV(estimator=ada,param_grid=search_grid,scoring='accuracy',n_jobs=1)\n",
    "search.fit(X_proy, Y)\n",
    "search.best_params_"
   ]
  },
  {
   "cell_type": "code",
   "execution_count": 110,
   "metadata": {},
   "outputs": [],
   "source": [
    "from sklearn.ensemble import AdaBoostClassifier\n",
    "from sklearn.svm import SVC\n",
    "from sklearn.naive_bayes import GaussianNB\n",
    "from sklearn.tree import DecisionTreeClassifier\n",
    "from sklearn.linear_model import LogisticRegression\n",
    "from sklearn.preprocessing import PolynomialFeatures\n",
    "n_estimators = 400\n",
    "learning_rate=.001\n",
    "Ndegree = 3 #<- if = 1 there is no transformatio at all\n",
    "choice_clf = 'LinearSVC' # 'LinearSVC', 'NBC' , 'DT'\n",
    "#-LinearSVC is slower other linear clfs. but it allows SAMME.R algorithm\n",
    "lin_clf  = SVC(kernel='linear',C=0.1, gamma= 'scale', probability=True)\n",
    "tree_clf = DecisionTreeClassifier(max_depth=1)\n",
    "nbc_clf  = GaussianNB()\n",
    "nolin_clf = LogisticRegression()\n",
    "\n",
    "if choice_clf == 'LinearSVC':\n",
    "    clf = AdaBoostClassifier(lin_clf,\n",
    "                      n_estimators=n_estimators, algorithm=\"SAMME.R\", learning_rate=learning_rate)\n",
    "elif choice_clf == 'DT':\n",
    "    clf = AdaBoostClassifier(tree_clf,\n",
    "                      n_estimators=n_estimators, algorithm=\"SAMME.R\", learning_rate=learning_rate)\n",
    "elif choice_clf == 'NBC':\n",
    "    clf = AdaBoostClassifier(nbc_clf,\n",
    "                      n_estimators=n_estimators, algorithm=\"SAMME.R\", learning_rate=learning_rate)\n",
    "elif choice_clf == 'NOLIN':# Ndegree = 2 #<- if = 1 there is no transformatio at all\n",
    "    poly_features = PolynomialFeatures(degree=Ndegree, include_bias=False)   \n",
    "    clf = AdaBoostClassifier(nolin_clf,\n",
    "                      n_estimators=n_estimators, algorithm=\"SAMME.R\", learning_rate=learning_rate)\n",
    "    \n",
    "else:\n",
    "    print('Choose one base classifier')\n",
    " \n"
   ]
  },
  {
   "cell_type": "code",
   "execution_count": 111,
   "metadata": {},
   "outputs": [],
   "source": [
    "#SI usaramos el no lineal\n",
    "#X_poly = poly_features.fit_transform(X_proy)\n",
    "#print(X_poly.shape)\n",
    "#clf.fit(X_poly, Y)\n",
    "#from sklearn.metrics import confusion_matrix\n",
    "#X_poly_test = poly_features.fit_transform(X_proy_validation)\n",
    "#print(X_poly_test.shape)"
   ]
  },
  {
   "cell_type": "code",
   "execution_count": 112,
   "metadata": {},
   "outputs": [
    {
     "data": {
      "text/plain": [
       "AdaBoostClassifier(base_estimator=SVC(C=0.1, kernel='linear', probability=True),\n",
       "                   learning_rate=0.001, n_estimators=400)"
      ]
     },
     "execution_count": 112,
     "metadata": {},
     "output_type": "execute_result"
    }
   ],
   "source": [
    "clf.fit(X_proy,Y)"
   ]
  },
  {
   "cell_type": "code",
   "execution_count": 113,
   "metadata": {},
   "outputs": [
    {
     "name": "stdout",
     "output_type": "stream",
     "text": [
      "['Antonio Santo', 'David Viar'] \n",
      "\n",
      "Confusion matrix:\n",
      "\n",
      "[[80 10]\n",
      " [33 68]] \n",
      "\n",
      "Outcome:\n",
      "\n",
      "  :) HIT  = 148, (77.49%)\n",
      "  :( FAIL = 43, (22.51%)\n"
     ]
    }
   ],
   "source": [
    "#EVALUACIÓN CON UN TEST PROPIO DE 191 IMAGENES NUNCA VISTAS\n",
    "\n",
    "Y_hat = clf.predict(X_proy_validation)\n",
    "conf_mat = confusion_matrix(Y_validation , Y_hat)\n",
    "N_success  = np.trace(conf_mat)\n",
    "N_fails = Y_validation.shape[0]-N_success\n",
    "#-------------------------------\n",
    "print (nombres,\"\\n\")\n",
    "print(\"Confusion matrix:\\n\")\n",
    "print(conf_mat,\"\\n\")\n",
    "print(\"Outcome:\\n\")\n",
    "strlog = \"  :) HIT  = %d, (%0.2f%%)\"%(N_success, 100*N_success/(N_success+N_fails))\n",
    "print(strlog)\n",
    "strlog = \"  :( FAIL = %d, (%0.2f%%)\"%(N_fails, 100*N_fails/(N_success+N_fails))\n",
    "print(strlog)"
   ]
  },
  {
   "cell_type": "code",
   "execution_count": 114,
   "metadata": {},
   "outputs": [
    {
     "data": {
      "text/plain": [
       "(951, 1)"
      ]
     },
     "execution_count": 114,
     "metadata": {},
     "output_type": "execute_result"
    }
   ],
   "source": [
    "# Preprocesado del test del profesor --\n",
    "\n",
    "FullSet = pd.read_csv(Test_filename, header=0)\n",
    "TestX_ = FullSet.iloc[:,:-1]\n",
    "TestY_ = FullSet.iloc[:,-1]\n",
    "X2 = scaler.transform(TestX_) \n",
    "Y_test = TestY_.values.ravel() \n",
    "#REDUCCION DE DIMENSIONALIDAD DE TEST\n",
    "lda.fit(X2,Y_test)\n",
    "X_test = lda.transform(X2)\n",
    "X_test.shape\n",
    "\n"
   ]
  },
  {
   "cell_type": "markdown",
   "metadata": {},
   "source": [
    "<table style=\"width:100%;\"> \n",
    " <tr style='background:pink'>\n",
    "  <td style=\"text-align:left\">\n",
    "      <h2>A partir de aquí ya no se pueden modificar las celdas</h2>\n",
    "          <h3>Comprueba que:</h3>\n",
    "          <p> $\\quad \\bullet$ tu clasificador está almacenado en la variable <b>clf</b><br>\n",
    "              $\\quad \\bullet$ tienes el conjunto de test correctamente almacenado en la variable <b>X_test</b><br>\n",
    "              $\\quad \\bullet$ tienes las etiquetas del conjunto de test correctamente almacenadas en la variable <b>Y_test</b><br>\n",
    "          </p>\n",
    "      \n",
    "  </td>\n",
    " </tr>\n",
    "</table>"
   ]
  },
  {
   "cell_type": "markdown",
   "metadata": {},
   "source": [
    "## Test"
   ]
  },
  {
   "cell_type": "code",
   "execution_count": 115,
   "metadata": {},
   "outputs": [
    {
     "name": "stdout",
     "output_type": "stream",
     "text": [
      "['Antonio Santo', 'David Viar'] \n",
      "\n",
      "Confusion matrix:\n",
      "\n",
      "[[401  45]\n",
      " [235 270]] \n",
      "\n",
      "Outcome:\n",
      "\n",
      "  :) HIT  = 671, (70.56%)\n",
      "  :( FAIL = 280, (29.44%)\n"
     ]
    }
   ],
   "source": [
    "# NO TOCAR ESTA CELDA\n",
    "\n",
    "from sklearn.metrics import confusion_matrix\n",
    "\n",
    "Y_hat = clf.predict(X_test)\n",
    "conf_mat = confusion_matrix(Y_test , Y_hat)\n",
    "N_success  = np.trace(conf_mat)\n",
    "N_fails = Y_test.shape[0]-N_success\n",
    "#-------------------------------\n",
    "print (nombres,\"\\n\")\n",
    "print(\"Confusion matrix:\\n\")\n",
    "print(conf_mat,\"\\n\")\n",
    "print(\"Outcome:\\n\")\n",
    "strlog = \"  :) HIT  = %d, (%0.2f%%)\"%(N_success, 100*N_success/(N_success+N_fails))\n",
    "print(strlog)\n",
    "strlog = \"  :( FAIL = %d, (%0.2f%%)\"%(N_fails, 100*N_fails/(N_success+N_fails))\n",
    "print(strlog)"
   ]
  },
  {
   "cell_type": "code",
   "execution_count": null,
   "metadata": {},
   "outputs": [],
   "source": []
  }
 ],
 "metadata": {
  "kernelspec": {
   "display_name": "Python 3",
   "language": "python",
   "name": "python3"
  },
  "language_info": {
   "codemirror_mode": {
    "name": "ipython",
    "version": 3
   },
   "file_extension": ".py",
   "mimetype": "text/x-python",
   "name": "python",
   "nbconvert_exporter": "python",
   "pygments_lexer": "ipython3",
   "version": "3.7.8"
  }
 },
 "nbformat": 4,
 "nbformat_minor": 4
}
