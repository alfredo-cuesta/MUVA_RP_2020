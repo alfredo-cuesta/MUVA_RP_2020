{
 "cells": [
  {
   "cell_type": "markdown",
   "metadata": {},
   "source": [
    "# Reto 3: El problema final\n",
    "\n",
    "Este reto consiste en predecir si una imagen contiene o no signos de retinopatía diabética (DR).\n",
    "Para ello se proporciona un conjunto de datos que contiene características extraídas de imágenes.\n",
    "Las características extraídas son:\n",
    "+ [0] Evaluación de la calidad de la imagen , donde 0 = mala calidad 1 = calidad suficiente.\n",
    "+ [1] El resultado binario de la evaluación previa, donde 1 indica una anormalidad retiniana severa y 0 su falta.\n",
    "+ [2-7] Los resultados de la detección de microaneurismas (MA). Cada valor de característica representa el número de MAs encontrados en los niveles de confianza alfa = 0.5, ... , 1, respectivamente.\n",
    "+ [8-15] contienen la misma información que [2-7] para los exudados. <br>\n",
    "Sin embargo, ya que los exudados están representados por un conjunto de puntos en lugar del número de\n",
    "píxeles de las lesiones, estas características se normalizan dividiendo los número de lesiones por  el diámetro de la ROI para compensar las diferentes tamaños de las imágenes.\n",
    "+ [16] La distancia euclidiana del centro dela mácula y el centro del disco óptico para proporcionar información importante con respecto a la condición del paciente. Esta característica también se normaliza con el diámetro de la ROI\n",
    "+ [17] El diámetro del disco óptico.\n",
    "+ [18] El resultado binario de la clasificación basada en AM/FM.\n",
    "+ [19] Etiqueta de clase. 1 = contiene signos de DR\n",
    "\n",
    "El conjunto de datos, *retinopatia_reto3.csv*, consiste en 592 muestras de imágenes; cada uno de ellos representado por 19 características.\n",
    "\n",
    "Para evaluar las propuestas se utilizará un conjunto de datos que se mantendrá oculto hasta después de la entrega\n",
    "\n",
    "### Requisitos\n",
    "+ **Se debe utilizar algún tipo de reducción de la dimensión o aprendizaje de variedades**\n",
    "+ A continuación se debe entrenar un clasificador o combinación de clasificadores con las características transformadas según el requisito anterior.\n",
    "+ Se debe entregar un cuaderno Jupyter con el nombre de los participantes.<br>\n",
    "  *Por ejemplo*:   **Cuesta_Hinton.ipynb**\n",
    "+ El cuaderno entregado debe seguir la estructura y reglas de este cuaderno\n",
    "\n",
    "### Competición\n",
    "+ Todos los cuadernos entregados se subirán al repo de GitHub y se ejecutarán en Binder, donde ya estará en conjunto de test que estaba oculto.\n",
    "+ El resultado que se obtenga será la puntuación del reto.\n",
    "+ **Importante** Es muy fácil asegurarte de que tu código funciona:\n",
    "    1. Agrupa todo tu código en una única celda\n",
    "    2. Copialo en el cuaderno del reto que hay en Binder\n",
    "    3. Ejecuta el cuaderno \n",
    "    \n",
    "### Plazo: lunes 16 de nov. a las 6 am.\n",
    "Es decir, incluye toda la noche del domingo 15 de nov.\n",
    " \n",
    "> \"The final problem\", A. C. Doyle (Strand Magazine, diciembre 1983), \n",
    "es el relato corto en el que Sherlock Holmes se enfrenta al Prof. Moriarty en las cataratas Reichenbach.\n",
    "\n",
    "---\n",
    "    [ES] Código de Alfredo Cuesta Infante para 'Reconocimiento de Patrones'\n",
    "       @ Master Universitario en Visión Artificial, 2020, URJC (España)\n",
    "    [EN] Code by Alfredo Cuesta-Infante for 'Pattern Recognition'\n",
    "       @ Master of Computer Vision, 2020, URJC (Spain)\n",
    "\n",
    "    alfredo.cuesta@urjc.es"
   ]
  },
  {
   "cell_type": "code",
   "execution_count": null,
   "metadata": {},
   "outputs": [],
   "source": [
    "# NO TOCAR ESTA CELDA\n",
    "# Conjunto distribuido para el reto\n",
    "\n",
    "Challange_filename = '../../Datasets/retinopatia_reto3.csv'"
   ]
  },
  {
   "cell_type": "code",
   "execution_count": null,
   "metadata": {},
   "outputs": [],
   "source": [
    "# NO TOCAR ESTA CELDA\n",
    "# El conjunto de test cambiará una vez se cierre la entrega\n",
    "# Ahora mismo es el mismo conjunto que el de entrenamiento\n",
    "\n",
    "Test_filename = '../../Datasets/retinopatia_test.csv' #<-- este nombre cambiará después del plazo de entrega"
   ]
  },
  {
   "cell_type": "code",
   "execution_count": 3,
   "metadata": {},
   "outputs": [],
   "source": [
    "# NO TOCAR ESTA CELDA\n",
    "\n",
    "#-[1]. Load data from CSV and put all in a single dataframe 'FullSet'\n",
    "\n",
    "import numpy  as np\n",
    "import pandas as pd\n",
    "from matplotlib import pyplot as plt\n",
    "import sys\n",
    "sys.path.append('../../MyUtils/')\n",
    "import MyUtils as my\n",
    "seed = 1234 #<- random generator seed (comment to get randomness)\n",
    "\n",
    "#-[2]. Load data from CSV and put all in a single dataframe 'FullSet'\n",
    "\n",
    "FullSet = pd.read_csv(Challange_filename, header=0)\n",
    "FullX = FullSet.iloc[:,:-1]\n",
    "FullY = FullSet.iloc[:,-1]"
   ]
  },
  {
   "cell_type": "markdown",
   "metadata": {},
   "source": [
    "<table style=\"width:100%;\"> \n",
    " <tr style='background:lime'>\n",
    "  <td style=\"text-align:left\">\n",
    "      <h2>Tu código debe empezar a partir de aquí y puede tener tantas celdas como quieras</h2>\n",
    "      <p> Si quieres, puedes borrar (o convertir en RawNBConvert) las celdas de ejemplo\n",
    "      <h3>Importante:</h3>\n",
    "      <p>Tu código debe producir las siguientes variables: </p>\n",
    "      <p> $\\quad \\bullet$ <b>clf:</b> el clasificador final con el que se realizará el test<br>\n",
    "       $\\quad \\bullet$ <b>X_test:</b> el conjunto de test listo para ser usado por el método <b>predict</b><br>\n",
    "       $\\quad \\bullet$ <b>Y_test:</b> es el vector de etiquetas del conjunto de X_test listo para ser usado por el método <b>confusion_matrix</b>\n",
    "      </p>\n",
    "  </td>\n",
    " </tr>\n",
    "</table>"
   ]
  },
  {
   "cell_type": "code",
   "execution_count": 4,
   "metadata": {},
   "outputs": [],
   "source": [
    "nombres = ['Pablo Asensio', 'Ruben Oliver']"
   ]
  },
  {
   "cell_type": "code",
   "execution_count": 5,
   "metadata": {},
   "outputs": [],
   "source": [
    "# para crear diferentes clasificadores con unas muestras similares\n",
    "from sklearn.model_selection import StratifiedKFold\n",
    "N = 7 # numero de clasificadores que se van a entrenar\n",
    "splitter = StratifiedKFold(n_splits=N)\n",
    "\n",
    "# para Booting con AdaBoost\n",
    "from sklearn.ensemble import AdaBoostClassifier"
   ]
  },
  {
   "cell_type": "markdown",
   "metadata": {},
   "source": [
    "<table style=\"width:100%;\"> \n",
    " <tr style='background:orange'>\n",
    "  <td style=\"text-align:left\">\n",
    "      <h2>(Mensaje a posteriori) Se elige un Decision Tree con 3 niveles: Se anotan los resultados promedios al lado</h2>\n",
    "  </td>\n",
    " </tr>\n",
    "</table>"
   ]
  },
  {
   "cell_type": "code",
   "execution_count": 6,
   "metadata": {},
   "outputs": [],
   "source": [
    "# tipos de clasificadores que se prueban\n",
    "from sklearn.svm import SVC\n",
    "from sklearn.naive_bayes import GaussianNB\n",
    "from sklearn.tree import DecisionTreeClassifier\n",
    "\n",
    "lin_clf = SVC(kernel=\"linear\", C=1, probability=True)\n",
    "tree_clf = DecisionTreeClassifier(\n",
    "    max_depth=3\n",
    ")  # 1 -> 0.73,  2 -> 0.61, 3 -> 0.92, 4 -> [0.64, 0.93] (no estable)??\n",
    "nbc_clf = GaussianNB()"
   ]
  },
  {
   "cell_type": "code",
   "execution_count": 7,
   "metadata": {},
   "outputs": [],
   "source": [
    "# variables de almacenamiento de los clasificadores y similares\n",
    "clfs = []\n",
    "scalers = []\n",
    "pcas = []\n",
    "precision = 0 # inicializada en 0\n",
    "seed = 1234"
   ]
  },
  {
   "cell_type": "markdown",
   "metadata": {},
   "source": [
    "<table style=\"width:100%;\"> \n",
    " <tr style='background:orange'>\n",
    "  <td style=\"text-align:left\">\n",
    "      <h2>Bucle que entrena los N clasificadores</h2>\n",
    "  </td>\n",
    " </tr>\n",
    "</table>"
   ]
  },
  {
   "cell_type": "code",
   "execution_count": 8,
   "metadata": {},
   "outputs": [],
   "source": [
    "from sklearn.decomposition import PCA\n",
    "\n",
    "from sklearn.preprocessing import MinMaxScaler\n",
    "from sklearn.metrics import confusion_matrix\n",
    "\n",
    "for train_ix, test_ix in splitter.split(FullX, FullY):\n",
    "    # se obtienen los diferentes conjuntos de datos para el entrenamiento\n",
    "    X_train_split = FullX.loc[train_ix].reset_index(drop=True)\n",
    "    Y_train_split = FullY.loc[train_ix].reset_index(drop=True)\n",
    "    X_test_split = FullX.loc[test_ix].reset_index(drop=True)\n",
    "    Y_test_split = FullY.loc[test_ix].reset_index(drop=True)\n",
    "    \n",
    "    # se escalan los datos de entrenamiento\n",
    "    scaler = MinMaxScaler(feature_range=(0, 100))\n",
    "    X = scaler.fit_transform(X_train_split)\n",
    "    Y = Y_train_split.values.ravel()\n",
    "    scalers.append(scaler)\n",
    "    \n",
    "    # se aplica una reduccion de datos a un 85% (A posteriori: con 0.75 y 0.8 no era estable (0.6-0.9)??)\n",
    "    n_components = 0.85\n",
    "    if n_components <= X.shape[1]:\n",
    "        pca = PCA(n_components=n_components)\n",
    "        pca.fit(X)\n",
    "        X_proy = pca.transform(X)\n",
    "    else:\n",
    "        print(\n",
    "            \"ERROR: the number of princial components has to be less or equal than data dimension !\"\n",
    "        )\n",
    "    \n",
    "    #IMPORTANTE ABAJO\n",
    "    \"\"\" -----> SE HA PROBADO CON n_components = 19 o inferior y no se obtenian buenos resultados... \n",
    "        -----> Con n_components = 100 si, por se descarta por no reducir dimensiones\n",
    "    from sklearn.decomposition import KernelPCA\n",
    "    \n",
    "    n_components = 100  # <- now, there is NO limit in the number of \"components\"\n",
    "\n",
    "    kernel = \"rbf\"  # options are: \"linear\", \"poly\", \"rbf\", \"sigmoid\"\n",
    "    kernel_parameter = 1\n",
    "\n",
    "    pca = KernelPCA(n_components=n_components,\n",
    "                        kernel=kernel, gamma=kernel_parameter, fit_inverse_transform=True)\n",
    "\n",
    "    X_proy = pca.fit_transform(X)\n",
    "    \"\"\"\n",
    "    pcas.append(pca)\n",
    "    \n",
    "    n_estimators = 500\n",
    "    learning_rate = 0.4\n",
    "    choice_clf = \"DT\"  # 'LinearSVC', 'NBC' , 'DT' # mejor resultado DT\n",
    "    \n",
    "    if choice_clf == \"LinearSVC\":\n",
    "        clf = AdaBoostClassifier(\n",
    "            lin_clf,\n",
    "            n_estimators=n_estimators,\n",
    "            algorithm=\"SAMME.R\",\n",
    "            learning_rate=learning_rate,\n",
    "        )\n",
    "    elif choice_clf == \"DT\":\n",
    "        clf = AdaBoostClassifier(\n",
    "            tree_clf,\n",
    "            n_estimators=n_estimators,\n",
    "            algorithm=\"SAMME.R\",\n",
    "            learning_rate=learning_rate,\n",
    "        )\n",
    "    elif choice_clf == \"NBC\":\n",
    "        clf = AdaBoostClassifier(\n",
    "            nbc_clf,\n",
    "            n_estimators=n_estimators,\n",
    "            algorithm=\"SAMME.R\",\n",
    "            learning_rate=learning_rate,\n",
    "        )\n",
    "    else:\n",
    "        print(\"Choose one base classifier\")\n",
    "        \n",
    "    # Se entrena el clasificador con los datos proyentados\n",
    "    clf.fit(X_proy, Y)\n",
    "\n",
    "    X_test = scaler.transform(X_test_split)\n",
    "    Y_test = Y_test_split.values.ravel()\n",
    "    \n",
    "    X_test = pca.transform(X_test)\n",
    "    Y_hat = clf.predict(X_test)\n",
    "    \n",
    "    conf_mat = confusion_matrix(Y_test, Y_hat)\n",
    "    \n",
    "    N_success = np.trace(conf_mat)\n",
    "    N_fails = Y_test.shape[0] - N_success\n",
    "\n",
    "    # Se guarda el clasificador con la puntuacion obtenida\n",
    "    clfs.append((clf, 100 * N_success / (N_success + N_fails)))\n",
    "    precision += 100 * N_success / (N_success + N_fails)"
   ]
  },
  {
   "cell_type": "markdown",
   "metadata": {},
   "source": [
    "<table style=\"width:100%;\"> \n",
    " <tr style='background:orange'>\n",
    "  <td style=\"text-align:left\">\n",
    "      <h2>Se elige elige el clasificador que mas se ajusta a la media de los clasificadores</h2>\n",
    "  </td>\n",
    " </tr>\n",
    "</table>"
   ]
  },
  {
   "cell_type": "code",
   "execution_count": 9,
   "metadata": {},
   "outputs": [],
   "source": [
    "mean = precision / N\n",
    "\n",
    "scaler_count = 0\n",
    "clf_aux = clfs[0]\n",
    "scaler = scalers[0]\n",
    "pca = pcas[0]\n",
    "for classifier in clfs:\n",
    "    #compara las puntuaciones\n",
    "    if abs(clf_aux[1] - mean) > abs(classifier[1] - mean):\n",
    "        clf_aux = classifier\n",
    "        scaler = scalers[scaler_count]\n",
    "        pca = pcas[scaler_count]\n",
    "    scaler_count += 1\n",
    "\n",
    "clf = clf_aux[0]"
   ]
  },
  {
   "cell_type": "code",
   "execution_count": 10,
   "metadata": {},
   "outputs": [],
   "source": [
    "# -- ejemplo de test --\n",
    "\n",
    "FullSet = pd.read_csv(Test_filename, header=0)\n",
    "TestX = FullSet.iloc[:, :-1]\n",
    "TestY = FullSet.iloc[:, -1]\n",
    "X_test = scaler.transform(TestX)\n",
    "Y_test = TestY.values.ravel()\n",
    "X_test = pca.transform(X_test)"
   ]
  },
  {
   "cell_type": "markdown",
   "metadata": {},
   "source": [
    "<table style=\"width:100%;\"> \n",
    " <tr style='background:pink'>\n",
    "  <td style=\"text-align:left\">\n",
    "      <h2>A partir de aquí ya no se pueden modificar las celdas</h2>\n",
    "          <h3>Comprueba que:</h3>\n",
    "          <p> $\\quad \\bullet$ tu clasificador está almacenado en la variable <b>clf</b><br>\n",
    "              $\\quad \\bullet$ tienes el conjunto de test correctamente almacenado en la variable <b>X_test</b><br>\n",
    "              $\\quad \\bullet$ tienes las etiquetas del conjunto de test correctamente almacenadas en la variable <b>Y_test</b><br>\n",
    "          </p>\n",
    "      \n",
    "  </td>\n",
    " </tr>\n",
    "</table>"
   ]
  },
  {
   "cell_type": "markdown",
   "metadata": {},
   "source": [
    "## Test"
   ]
  },
  {
   "cell_type": "code",
   "execution_count": 11,
   "metadata": {},
   "outputs": [
    {
     "name": "stdout",
     "output_type": "stream",
     "text": [
      "['Pablo Asensio', 'Ruben Oliver'] \n",
      "\n",
      "Confusion matrix:\n",
      "\n",
      "[[421  25]\n",
      " [ 33 472]] \n",
      "\n",
      "Outcome:\n",
      "\n",
      "  :) HIT  = 893, (93.90%)\n",
      "  :( FAIL = 58, (6.10%)\n"
     ]
    }
   ],
   "source": [
    "# NO TOCAR ESTA CELDA\n",
    "\n",
    "from sklearn.metrics import confusion_matrix\n",
    "\n",
    "Y_hat = clf.predict(X_test)\n",
    "conf_mat = confusion_matrix(Y_test , Y_hat)\n",
    "N_success  = np.trace(conf_mat)\n",
    "N_fails = Y_test.shape[0]-N_success\n",
    "#-------------------------------\n",
    "print (nombres,\"\\n\")\n",
    "print(\"Confusion matrix:\\n\")\n",
    "print(conf_mat,\"\\n\")\n",
    "print(\"Outcome:\\n\")\n",
    "strlog = \"  :) HIT  = %d, (%0.2f%%)\"%(N_success, 100*N_success/(N_success+N_fails))\n",
    "print(strlog)\n",
    "strlog = \"  :( FAIL = %d, (%0.2f%%)\"%(N_fails, 100*N_fails/(N_success+N_fails))\n",
    "print(strlog)"
   ]
  },
  {
   "cell_type": "code",
   "execution_count": null,
   "metadata": {},
   "outputs": [],
   "source": []
  }
 ],
 "metadata": {
  "kernelspec": {
   "display_name": "Python 3",
   "language": "python",
   "name": "python3"
  },
  "language_info": {
   "codemirror_mode": {
    "name": "ipython",
    "version": 3
   },
   "file_extension": ".py",
   "mimetype": "text/x-python",
   "name": "python",
   "nbconvert_exporter": "python",
   "pygments_lexer": "ipython3",
   "version": "3.8.5"
  }
 },
 "nbformat": 4,
 "nbformat_minor": 4
}
