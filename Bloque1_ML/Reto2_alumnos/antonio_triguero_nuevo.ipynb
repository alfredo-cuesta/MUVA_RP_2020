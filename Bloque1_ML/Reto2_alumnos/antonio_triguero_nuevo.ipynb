{
  "nbformat": 4,
  "nbformat_minor": 0,
  "metadata": {
    "kernelspec": {
      "display_name": "Python 3",
      "language": "python",
      "name": "python3"
    },
    "language_info": {
      "codemirror_mode": {
        "name": "ipython",
        "version": 3
      },
      "file_extension": ".py",
      "mimetype": "text/x-python",
      "name": "python",
      "nbconvert_exporter": "python",
      "pygments_lexer": "ipython3",
      "version": "3.7.0"
    },
    "colab": {
      "name": "RETO_02_multiclase_nolineal.ipynb",
      "provenance": [],
      "collapsed_sections": [],
      "toc_visible": true
    }
  },
  "cells": [
    {
      "cell_type": "markdown",
      "metadata": {
        "id": "eaQkCnoXNSxy"
      },
      "source": [
        "# Reto 2: Problema multiclase\n",
        "\n",
        "Este reto consiste en aprender a clasificar 4 tipos diferentes de vehículos utilizando cualquiera de los clasificadores o técnicas estudiadas hasta el momento. Esto incluye:\n",
        "+ clasificación lineal\n",
        "+ transformaciones no lineales seguido de un clasificador lineal\n",
        "+ Support Vector Machines (SVM)\n",
        "+ Decision Tree (DT)\n",
        "\n",
        "Además se pueden aplicar técnicas de preprocesado como:\n",
        "+ escalado de las características\n",
        "+ *grid search* para búsqueda de hiperparámetros\n",
        "+ validación cruzada\n",
        "\n",
        "El conjunto de datos, *vehiculos_reto2.csv*, consiste en 592 muestras de vehículos; cada uno de ellos representado por 18 características.\n",
        "\n",
        "Para evaluar las propuestas se utilizará un conjunto de datos que se mantendrá oculto hasta después de la entrega\n",
        "\n",
        "### Requisitos\n",
        "+ La entrega se realiza **sólo** a través de la tarea habilitada para ello en la pestaña de *Evaluación* del Aula Virtual.\n",
        "+ Se debe entregar un cuaderno Jupyter con el nombre de los participantes.<br>\n",
        "  *Por ejemplo*:   **Cuesta_LeCunn.ipynb**\n",
        "+ El cuaderno entregado debe seguir la estructura y reglas de este cuaderno\n",
        "\n",
        "### Competición\n",
        "+ Todos los cuadernos entregados se subirán al repo de GitHub y se ejecutarán en Binder, donde ya estará en conjunto de test que permanecía oculto.\n",
        "+ El número de aciertos respecto del número de ejemplos será la puntuación del reto.\n",
        "+ **Importante** Es muy fácil asegurarte de que tu código funcionará bien. Para ello:\n",
        "    1. Agrupa todo tu código en una única celda\n",
        "    2. En el cuaderno del reto que hay en Binder: elimina las celdas que hay entre la verde y la roja, y copia tu celda entre ellas.\n",
        "    3. Ejecuta ese cuaderno de Binder. \n",
        "    \n",
        "### Plazo: lunes 26 de oct. de 2020 a las 6 am.\n",
        "Es decir, incluye toda la noche del domingo 25 de oct.\n",
        "\n",
        "\n",
        "---\n",
        "    [ES] Código de Alfredo Cuesta Infante para 'Reconocimiento de Patrones'\n",
        "       @ Master Universitario en Visión Artificial, 2020, URJC (España)\n",
        "    [EN] Code by Alfredo Cuesta-Infante for 'Pattern Recognition'\n",
        "       @ Master of Computer Vision, 2020, URJC (Spain)\n",
        "\n",
        "    alfredo.cuesta@urjc.es"
      ]
    },
    {
      "cell_type": "code",
      "metadata": {
        "id": "HdXeMc1TNSxy"
      },
      "source": [
        "# Conjunto distribuido para el reto\n",
        "\n",
        "Challange_filename = '../../Datasets/vehiculos_reto2.csv'"
      ],
      "execution_count": null,
      "outputs": []
    },
    {
      "cell_type": "code",
      "metadata": {
        "id": "QHcopbXd--HI"
      },
      "source": [
        "# Conjunto NO distribuido para evaluar los clasificadores entregados\r\n",
        "\r\n",
        "Test_filename = '../../Datasets/vehiculos_reto2.csv' #<-- este nombre cambiará después del plazo de entrega"
      ],
      "execution_count": null,
      "outputs": []
    },
    {
      "cell_type": "code",
      "metadata": {
        "id": "VC03Q5NlNSx4",
        "colab": {
          "base_uri": "https://localhost:8080/"
        },
        "outputId": "c849b8c8-bca7-479c-a4b7-a34ce213ab52"
      },
      "source": [
        "#-[1]. Load data from CSV and put all in a single dataframe 'FullSet'\n",
        "\n",
        "import numpy  as np\n",
        "import pandas as pd\n",
        "from matplotlib import pyplot as plt\n",
        "import sys\n",
        "sys.path.append('../../MyUtils/')\n",
        "import MyUtils as my\n",
        "seed = 1234 #<- random generator seed (comment to get randomness)\n",
        "\n",
        "#-[2]. Load data from CSV and put all in a single dataframe 'FullSet'\n",
        "\n",
        "FullSet = pd.read_csv(Challange_filename, header=0)\n",
        "FullX = FullSet.drop('Class', axis=1)\n",
        "FullY = FullSet[['Class']]"
      ],
      "execution_count": null,
      "outputs": [
        {
          "output_type": "stream",
          "text": [
            "Requirement already satisfied: numpy in /usr/local/lib/python3.6/dist-packages (1.18.5)\n",
            "Requirement already satisfied: pandas in /usr/local/lib/python3.6/dist-packages (1.1.5)\n",
            "Requirement already satisfied: matplotlib in /usr/local/lib/python3.6/dist-packages (3.2.2)\n",
            "Requirement already satisfied: python-dateutil>=2.7.3 in /usr/local/lib/python3.6/dist-packages (from pandas) (2.8.1)\n",
            "Requirement already satisfied: pytz>=2017.2 in /usr/local/lib/python3.6/dist-packages (from pandas) (2018.9)\n",
            "Requirement already satisfied: pyparsing!=2.0.4,!=2.1.2,!=2.1.6,>=2.0.1 in /usr/local/lib/python3.6/dist-packages (from matplotlib) (2.4.7)\n",
            "Requirement already satisfied: kiwisolver>=1.0.1 in /usr/local/lib/python3.6/dist-packages (from matplotlib) (1.3.1)\n",
            "Requirement already satisfied: cycler>=0.10 in /usr/local/lib/python3.6/dist-packages (from matplotlib) (0.10.0)\n",
            "Requirement already satisfied: six>=1.5 in /usr/local/lib/python3.6/dist-packages (from python-dateutil>=2.7.3->pandas) (1.15.0)\n"
          ],
          "name": "stdout"
        }
      ]
    },
    {
      "cell_type": "markdown",
      "metadata": {
        "id": "mm6wYrz2NSx6"
      },
      "source": [
        "<table style=\"width:100%;\"> \n",
        " <tr style='background:lime'>\n",
        "  <td style=\"text-align:left\">\n",
        "      <h2>Tu código debe empezar a partir de aquí y puede tener tantas celdas como quieras</h2>\n",
        "      <p> Si quieres, puedes borrar (o convertir en RawNBConvert) las celdas de ejemplo\n",
        "      <h3>Importante:</h3>\n",
        "      <p>Tu código debe producir las siguientes variables: </p>\n",
        "      <p> $\\quad \\bullet$ <b>clf:</b> el clasificador final con el que se realizará el test<br>\n",
        "       $\\quad \\bullet$ <b>X_test:</b> el conjunto de test listo para ser usado por el método <b>predict</b><br>\n",
        "       $\\quad \\bullet$ <b>Y_test:</b> es el vector de etiquetas del conjunto de X_test listo para ser usado por el método <b>confusion_matrix</b>\n",
        "      </p>\n",
        "  </td>\n",
        " </tr>\n",
        "</table>"
      ]
    },
    {
      "cell_type": "code",
      "metadata": {
        "id": "F6j6Nl19NSx6"
      },
      "source": [
        "nombres = [\"Jose Miguel Zamora Bautista\", \"Antonio Triguero Noriega\"]"
      ],
      "execution_count": null,
      "outputs": []
    },
    {
      "cell_type": "code",
      "metadata": {
        "id": "oH4kUOo8NSyA"
      },
      "source": [
        "from sklearn.preprocessing import MinMaxScaler, OneHotEncoder\n",
        "\n",
        "scaler = MinMaxScaler()\n",
        "FullX = scaler.fit_transform(FullX)\n",
        "onehot = OneHotEncoder()\n",
        "onehot.fit(FullY)\n",
        "FullY = onehot.transform(FullY).argmax(axis=1)\n",
        "FullY = np.array([x[0] for x in FullY.tolist()])"
      ],
      "execution_count": null,
      "outputs": []
    },
    {
      "cell_type": "code",
      "metadata": {
        "id": "WaSr49IXNSx9"
      },
      "source": [
        "from sklearn.model_selection import train_test_split\n",
        "\n",
        "x_train, x_test, y_train, y_test = train_test_split(FullX, FullY, test_size=0.1, random_state=42)"
      ],
      "execution_count": null,
      "outputs": []
    },
    {
      "cell_type": "code",
      "metadata": {
        "id": "94HQJ8bwNSyC"
      },
      "source": [
        "from sklearn.svm import SVC, LinearSVC\n",
        "from sklearn import tree"
      ],
      "execution_count": null,
      "outputs": []
    },
    {
      "cell_type": "code",
      "metadata": {
        "id": "A5qQHU0TNSyF"
      },
      "source": [
        "'''from sklearn.model_selection import GridSearchCV\n",
        "import numpy as np\n",
        "\n",
        "clf = SVC(kernel='rbf', random_state = seed)\n",
        "\n",
        "max_degree = 10\n",
        "max_C = 5.0\n",
        "\n",
        "svc_grid_params = {\n",
        "    'kernel': ['linear', 'poly', 'rbf', 'sigmoid'],\n",
        "    'degree': list(range(1, max_degree)),\n",
        "    'gamma': ['scale', 'auto'],\n",
        "    'C': list(np.arange(0.1, max_C, 0.25))\n",
        "}\n",
        "\n",
        "grid = GridSearchCV(clf, svc_grid_params, n_jobs=-1)\n",
        "grid.fit(x_train, y_train)\n",
        "\n",
        "clf = grid.best_estimator_'''"
      ],
      "execution_count": null,
      "outputs": []
    },
    {
      "cell_type": "code",
      "metadata": {
        "colab": {
          "base_uri": "https://localhost:8080/"
        },
        "id": "yBQ6o9Z37TDv",
        "outputId": "6a24dd78-19b5-48f2-ea92-f77db6ecae44"
      },
      "source": [
        "clf = SVC(random_state=seed, C=2.6, kernel='poly', degree=4)\r\n",
        "clf.fit(x_train, y_train)"
      ],
      "execution_count": null,
      "outputs": [
        {
          "output_type": "execute_result",
          "data": {
            "text/plain": [
              "SVC(C=2.6, break_ties=False, cache_size=200, class_weight=None, coef0=0.0,\n",
              "    decision_function_shape='ovr', degree=4, gamma='scale', kernel='poly',\n",
              "    max_iter=-1, probability=False, random_state=1234, shrinking=True,\n",
              "    tol=0.001, verbose=False)"
            ]
          },
          "metadata": {
            "tags": []
          },
          "execution_count": 27
        }
      ]
    },
    {
      "cell_type": "code",
      "metadata": {
        "id": "gubGrMFqNSyH",
        "colab": {
          "base_uri": "https://localhost:8080/",
          "height": 53
        },
        "outputId": "edd102dd-f0a7-4565-a8ef-cf16523601f3"
      },
      "source": [
        "X_test = x_test\n",
        "Y_test = y_test\n",
        "\n",
        "'''RESULTADO: X_test es el dataframe para utilizar en >>> Y_pred = clf.predict() \n",
        "   RESULTADO: Y_test es el array con las etiquetas para utilizar en >>> confusion_matrix(Y_test,Y_pred)\n",
        "'''"
      ],
      "execution_count": null,
      "outputs": [
        {
          "output_type": "execute_result",
          "data": {
            "application/vnd.google.colaboratory.intrinsic+json": {
              "type": "string"
            },
            "text/plain": [
              "'RESULTADO: X_test es el dataframe para utilizar en >>> Y_pred = clf.predict() \\n   RESULTADO: Y_test es el array con las etiquetas para utilizar en >>> confusion_matrix(Y_test,Y_pred)\\n'"
            ]
          },
          "metadata": {
            "tags": []
          },
          "execution_count": 28
        }
      ]
    },
    {
      "cell_type": "markdown",
      "metadata": {
        "id": "Bg68k58xNSyJ"
      },
      "source": [
        "<table style=\"width:100%;\"> \n",
        " <tr style='background:pink'>\n",
        "  <td style=\"text-align:left\">\n",
        "      <h2>A partir de aquí ya no se pueden modificar las celdas</h2>\n",
        "          <h3>Comprueba que:</h3>\n",
        "          <p> $\\quad \\bullet$ tu clasificador está almacenado en la variable <b>clf</b><br>\n",
        "              $\\quad \\bullet$ tienes el conjunto de test correctamente almacenado en la variable <b>X_test</b><br>\n",
        "              $\\quad \\bullet$ tienes las etiquetas del conjunto de test correctamente almacenadas en la variable <b>Y_test</b><br>\n",
        "          </p>\n",
        "      \n",
        "  </td>\n",
        " </tr>\n",
        "</table>"
      ]
    },
    {
      "cell_type": "markdown",
      "metadata": {
        "id": "oR1j31MGNSyJ"
      },
      "source": [
        "## Test"
      ]
    },
    {
      "cell_type": "code",
      "metadata": {
        "id": "ct8ZGJAuNSyJ",
        "colab": {
          "base_uri": "https://localhost:8080/"
        },
        "outputId": "a8d82dd3-9e10-4ca8-d155-5ca653e79278"
      },
      "source": [
        "from sklearn.metrics import confusion_matrix\n",
        "\n",
        "Y_hat = clf.predict(X_test)\n",
        "conf_mat = confusion_matrix(Y_test , Y_hat)\n",
        "N_success  = np.trace(conf_mat)\n",
        "N_fails = Y_test.shape[0]-N_success\n",
        "#-------------------------------\n",
        "print (nombres,\"\\n\")\n",
        "print(\"Confusion matrix:\\n\")\n",
        "print(conf_mat,\"\\n\")\n",
        "print(\"Outcome:\\n\")\n",
        "strlog = \"  :) HIT  = %d, (%0.2f%%)\"%(N_success, 100*N_success/(N_success+N_fails))\n",
        "print(strlog)\n",
        "strlog = \"  :( FAIL = %d, (%0.2f%%)\"%(N_fails, 100*N_fails/(N_success+N_fails))\n",
        "print(strlog)"
      ],
      "execution_count": null,
      "outputs": [
        {
          "output_type": "stream",
          "text": [
            "['Jose Miguel Zamora Bautista', 'Antonio Triguero Noriega'] \n",
            "\n",
            "Confusion matrix:\n",
            "\n",
            "[[16  0  0  0]\n",
            " [ 0  7  2  0]\n",
            " [ 1  6 11  0]\n",
            " [ 0  0  0 17]] \n",
            "\n",
            "Outcome:\n",
            "\n",
            "  :) HIT  = 51, (85.00%)\n",
            "  :( FAIL = 9, (15.00%)\n"
          ],
          "name": "stdout"
        }
      ]
    }
  ]
}