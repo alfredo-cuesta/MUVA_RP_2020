{
 "cells": [
  {
   "cell_type": "markdown",
   "metadata": {},
   "source": [
    "# Reto 2: Problema multiclase\n",
    "\n",
    "Este reto consiste en aprender a clasificar 4 tipos diferentes de vehículos utilizando cualquiera de los clasificadores o técnicas estudiadas hasta el momento. Esto incluye:\n",
    "+ clasificación lineal\n",
    "+ transformaciones no lineales seguido de un clasificador lineal\n",
    "+ Support Vector Machines (SVM)\n",
    "+ Decision Tree (DT)\n",
    "\n",
    "Además se pueden aplicar técnicas de preprocesado como:\n",
    "+ escalado de las características\n",
    "+ *grid search* para búsqueda de hiperparámetros\n",
    "+ validación cruzada\n",
    "\n",
    "El conjunto de datos, *vehiculos_reto2.csv*, consiste en 592 muestras de vehículos; cada uno de ellos representado por 18 características.\n",
    "\n",
    "Para evaluar las propuestas se utilizará un conjunto de datos que se mantendrá oculto hasta después de la entrega\n",
    "\n",
    "### Requisitos\n",
    "+ La entrega se realiza **sólo** a través de la tarea habilitada para ello en la pestaña de *Evaluación* del Aula Virtual.\n",
    "+ Se debe entregar un cuaderno Jupyter con el nombre de los participantes.<br>\n",
    "  *Por ejemplo*:   **Cuesta_LeCunn.ipynb**\n",
    "+ El cuaderno entregado debe seguir la estructura y reglas de este cuaderno\n",
    "\n",
    "### Competición\n",
    "+ Todos los cuadernos entregados se subirán al repo de GitHub y se ejecutarán en Binder, donde ya estará en conjunto de test que permanecía oculto.\n",
    "+ El número de aciertos respecto del número de ejemplos será la puntuación del reto.\n",
    "+ **Importante** Es muy fácil asegurarte de que tu código funcionará bien. Para ello:\n",
    "    1. Agrupa todo tu código en una única celda\n",
    "    2. En el cuaderno del reto que hay en Binder: elimina las celdas que hay entre la verde y la roja, y copia tu celda entre ellas.\n",
    "    3. Ejecuta ese cuaderno de Binder. \n",
    "    \n",
    "### Plazo: lunes 26 de oct. de 2020 a las 6 am.\n",
    "Es decir, incluye toda la noche del domingo 25 de oct.\n",
    "\n",
    "\n",
    "---\n",
    "    [ES] Código de Alfredo Cuesta Infante para 'Reconocimiento de Patrones'\n",
    "       @ Master Universitario en Visión Artificial, 2020, URJC (España)\n",
    "    [EN] Code by Alfredo Cuesta-Infante for 'Pattern Recognition'\n",
    "       @ Master of Computer Vision, 2020, URJC (Spain)\n",
    "\n",
    "    alfredo.cuesta@urjc.es"
   ]
  },
  {
   "cell_type": "code",
   "execution_count": 1,
   "metadata": {},
   "outputs": [],
   "source": [
    "# Conjunto distribuido para el reto\n",
    "\n",
    "Challange_filename = '../../Datasets/vehiculos_reto2.csv'"
   ]
  },
  {
   "cell_type": "code",
   "execution_count": 2,
   "metadata": {},
   "outputs": [],
   "source": [
    "# Conjunto NO distribuido para evaluar los clasificadores entregados\n",
    "\n",
    "Test_filename = '../../Datasets/vehiculos_test.csv' #<-- este nombre cambiará después del plazo de entrega"
   ]
  },
  {
   "cell_type": "code",
   "execution_count": 3,
   "metadata": {},
   "outputs": [],
   "source": [
    "#-[1]. Load data from CSV and put all in a single dataframe 'FullSet'\n",
    "\n",
    "import numpy  as np\n",
    "import pandas as pd\n",
    "from matplotlib import pyplot as plt\n",
    "import sys\n",
    "sys.path.append('../../MyUtils/')\n",
    "import MyUtils as my\n",
    "seed = 1234 #<- random generator seed (comment to get randomness)\n",
    "\n",
    "#-[2]. Load data from CSV and put all in a single dataframe 'FullSet'\n",
    "\n",
    "FullSet = pd.read_csv(Challange_filename, header=0)\n",
    "FullX = FullSet.drop('Class', axis=1)\n",
    "FullY = FullSet[['Class']]"
   ]
  },
  {
   "cell_type": "markdown",
   "metadata": {},
   "source": [
    "<table style=\"width:100%;\"> \n",
    " <tr style='background:lime'>\n",
    "  <td style=\"text-align:left\">\n",
    "      <h2>Tu código debe empezar a partir de aquí y puede tener tantas celdas como quieras</h2>\n",
    "      <p> Si quieres, puedes borrar (o convertir en RawNBConvert) las celdas de ejemplo\n",
    "      <h3>Importante:</h3>\n",
    "      <p>Tu código debe producir las siguientes variables: </p>\n",
    "      <p> $\\quad \\bullet$ <b>clf:</b> el clasificador final con el que se realizará el test<br>\n",
    "       $\\quad \\bullet$ <b>X_test:</b> el conjunto de test listo para ser usado por el método <b>predict</b><br>\n",
    "       $\\quad \\bullet$ <b>Y_test:</b> es el vector de etiquetas del conjunto de X_test listo para ser usado por el método <b>confusion_matrix</b>\n",
    "      </p>\n",
    "  </td>\n",
    " </tr>\n",
    "</table>"
   ]
  },
  {
   "cell_type": "code",
   "execution_count": 4,
   "metadata": {},
   "outputs": [],
   "source": [
    "nombres = [\"Antonio Santo López\", \"David Viar Hernández\"]"
   ]
  },
  {
   "cell_type": "code",
   "execution_count": 5,
   "metadata": {},
   "outputs": [],
   "source": [
    "#-- ejemplo de preprocesado --\n",
    "from sklearn.preprocessing import MinMaxScaler\n",
    "\n",
    "scaler = MinMaxScaler()  #feature_range=(0, 100)\n",
    "X = scaler.fit_transform(FullX)\n",
    "Y = FullY.values.ravel()"
   ]
  },
  {
   "cell_type": "code",
   "execution_count": 6,
   "metadata": {},
   "outputs": [
    {
     "data": {
      "text/plain": [
       "{'cv': None,\n",
       " 'error_score': nan,\n",
       " 'estimator__C': 1.0,\n",
       " 'estimator__break_ties': False,\n",
       " 'estimator__cache_size': 200,\n",
       " 'estimator__class_weight': None,\n",
       " 'estimator__coef0': 0.0,\n",
       " 'estimator__decision_function_shape': 'ovr',\n",
       " 'estimator__degree': 3,\n",
       " 'estimator__gamma': 'scale',\n",
       " 'estimator__kernel': 'rbf',\n",
       " 'estimator__max_iter': -1,\n",
       " 'estimator__probability': False,\n",
       " 'estimator__random_state': None,\n",
       " 'estimator__shrinking': True,\n",
       " 'estimator__tol': 0.001,\n",
       " 'estimator__verbose': False,\n",
       " 'estimator': SVC(),\n",
       " 'iid': 'deprecated',\n",
       " 'n_jobs': None,\n",
       " 'param_grid': {'kernel': ('linear', 'rbf', 'poly'),\n",
       "  'C': [0.1, 1, 5, 10, 100.0, 1000.0],\n",
       "  'gamma': [0.1, 1, 5, 10, 100.0, 1000.0]},\n",
       " 'pre_dispatch': '2*n_jobs',\n",
       " 'refit': True,\n",
       " 'return_train_score': False,\n",
       " 'scoring': None,\n",
       " 'verbose': 0}"
      ]
     },
     "execution_count": 6,
     "metadata": {},
     "output_type": "execute_result"
    }
   ],
   "source": [
    "\n",
    "from sklearn.model_selection import GridSearchCV\n",
    "from sklearn.svm import SVC\n",
    "parameters = {'kernel':('linear', 'rbf', 'poly'), 'C':[1e-1, 1, 5, 10, 1e2, 1e3], 'gamma':[1e-1, 1, 5, 10, 1e2, 1e3]}\n",
    "clf = SVC()\n",
    "clf = GridSearchCV(clf, parameters)\n",
    "clf.get_params() "
   ]
  },
  {
   "cell_type": "code",
   "execution_count": 7,
   "metadata": {},
   "outputs": [
    {
     "data": {
      "text/plain": [
       "'RESULTADO: clf es el objeto con el clasificador'"
      ]
     },
     "execution_count": 7,
     "metadata": {},
     "output_type": "execute_result"
    }
   ],
   "source": [
    "from sklearn.preprocessing import MinMaxScaler\n",
    "from sklearn.model_selection import StratifiedShuffleSplit\n",
    "from sklearn.svm import SVC\n",
    "from sklearn.model_selection import KFold\n",
    "scores = []\n",
    "#clf = SVC(kernel='poly', degree=4, C=10, gamma=100, random_state = seed)\n",
    "cv = KFold(n_splits=30, random_state=42, shuffle=True)\n",
    "\n",
    "for train_index, test_index in cv.split(X):\n",
    "    \n",
    "    #print(\"Train Index: \", train_index, \"\\n\")\n",
    "    #print(\"Test Index: \", test_index)\n",
    "\n",
    "    X_train, X_test, Y_train, Y_test = X[train_index], X[test_index], Y[train_index], Y[test_index]\n",
    "    clf.fit(X_train, Y_train)\n",
    "    #scores.append(clf.score(X_test, Y_test))\n",
    "    \n",
    "\n",
    "\n",
    "'''RESULTADO: clf es el objeto con el clasificador'''"
   ]
  },
  {
   "cell_type": "markdown",
   "metadata": {},
   "source": [
    "<table style=\"width:100%;\"> \n",
    " <tr style='background:pink'>\n",
    "  <td style=\"text-align:left\">\n",
    "      <h2>A partir de aquí ya no se pueden modificar las celdas</h2>\n",
    "          <h3>Comprueba que:</h3>\n",
    "          <p> $\\quad \\bullet$ tu clasificador está almacenado en la variable <b>clf</b><br>\n",
    "              $\\quad \\bullet$ tienes el conjunto de test correctamente almacenado en la variable <b>X_test</b><br>\n",
    "              $\\quad \\bullet$ tienes las etiquetas del conjunto de test correctamente almacenadas en la variable <b>Y_test</b><br>\n",
    "          </p>\n",
    "      \n",
    "  </td>\n",
    " </tr>\n",
    "</table>"
   ]
  },
  {
   "cell_type": "markdown",
   "metadata": {},
   "source": [
    "## Test"
   ]
  },
  {
   "cell_type": "code",
   "execution_count": 8,
   "metadata": {},
   "outputs": [
    {
     "name": "stdout",
     "output_type": "stream",
     "text": [
      "['Antonio Santo López', 'David Viar Hernández'] \n",
      "\n",
      "Confusion matrix:\n",
      "\n",
      "[[4 0 0 0]\n",
      " [0 4 0 1]\n",
      " [0 1 5 0]\n",
      " [0 0 0 4]] \n",
      "\n",
      "Outcome:\n",
      "\n",
      "  :) HIT  = 17, (89.47%)\n",
      "  :( FAIL = 2, (10.53%)\n"
     ]
    }
   ],
   "source": [
    "from sklearn.metrics import confusion_matrix\n",
    "\n",
    "Y_hat = clf.predict(X_test)\n",
    "conf_mat = confusion_matrix(Y_test , Y_hat)\n",
    "N_success  = np.trace(conf_mat)\n",
    "N_fails = Y_test.shape[0]-N_success\n",
    "#-------------------------------\n",
    "print (nombres,\"\\n\")\n",
    "print(\"Confusion matrix:\\n\")\n",
    "print(conf_mat,\"\\n\")\n",
    "print(\"Outcome:\\n\")\n",
    "strlog = \"  :) HIT  = %d, (%0.2f%%)\"%(N_success, 100*N_success/(N_success+N_fails))\n",
    "print(strlog)\n",
    "strlog = \"  :( FAIL = %d, (%0.2f%%)\"%(N_fails, 100*N_fails/(N_success+N_fails))\n",
    "print(strlog)"
   ]
  },
  {
   "cell_type": "code",
   "execution_count": null,
   "metadata": {},
   "outputs": [],
   "source": []
  }
 ],
 "metadata": {
  "kernelspec": {
   "display_name": "Python 3",
   "language": "python",
   "name": "python3"
  },
  "language_info": {
   "codemirror_mode": {
    "name": "ipython",
    "version": 3
   },
   "file_extension": ".py",
   "mimetype": "text/x-python",
   "name": "python",
   "nbconvert_exporter": "python",
   "pygments_lexer": "ipython3",
   "version": "3.7.9"
  }
 },
 "nbformat": 4,
 "nbformat_minor": 4
}
